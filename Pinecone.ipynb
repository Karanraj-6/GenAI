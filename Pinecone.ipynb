{
  "nbformat": 4,
  "nbformat_minor": 0,
  "metadata": {
    "colab": {
      "provenance": []
    },
    "kernelspec": {
      "name": "python3",
      "display_name": "Python 3"
    },
    "language_info": {
      "name": "python"
    }
  },
  "cells": [
    {
      "cell_type": "code",
      "execution_count": 2,
      "metadata": {
        "id": "xcFrnv0MIwY1",
        "colab": {
          "base_uri": "https://localhost:8080/"
        },
        "outputId": "56f74957-c02b-45f6-8e8b-bd50f68167b4"
      },
      "outputs": [
        {
          "output_type": "stream",
          "name": "stdout",
          "text": [
            "Requirement already satisfied: langchain in /usr/local/lib/python3.10/dist-packages (0.3.7)\n",
            "Requirement already satisfied: PyYAML>=5.3 in /usr/local/lib/python3.10/dist-packages (from langchain) (6.0.2)\n",
            "Requirement already satisfied: SQLAlchemy<3,>=1.4 in /usr/local/lib/python3.10/dist-packages (from langchain) (2.0.36)\n",
            "Requirement already satisfied: aiohttp<4.0.0,>=3.8.3 in /usr/local/lib/python3.10/dist-packages (from langchain) (3.11.2)\n",
            "Requirement already satisfied: async-timeout<5.0.0,>=4.0.0 in /usr/local/lib/python3.10/dist-packages (from langchain) (4.0.3)\n",
            "Requirement already satisfied: langchain-core<0.4.0,>=0.3.15 in /usr/local/lib/python3.10/dist-packages (from langchain) (0.3.19)\n",
            "Requirement already satisfied: langchain-text-splitters<0.4.0,>=0.3.0 in /usr/local/lib/python3.10/dist-packages (from langchain) (0.3.2)\n",
            "Requirement already satisfied: langsmith<0.2.0,>=0.1.17 in /usr/local/lib/python3.10/dist-packages (from langchain) (0.1.143)\n",
            "Requirement already satisfied: numpy<2,>=1 in /usr/local/lib/python3.10/dist-packages (from langchain) (1.26.4)\n",
            "Requirement already satisfied: pydantic<3.0.0,>=2.7.4 in /usr/local/lib/python3.10/dist-packages (from langchain) (2.9.2)\n",
            "Requirement already satisfied: requests<3,>=2 in /usr/local/lib/python3.10/dist-packages (from langchain) (2.32.3)\n",
            "Requirement already satisfied: tenacity!=8.4.0,<10,>=8.1.0 in /usr/local/lib/python3.10/dist-packages (from langchain) (9.0.0)\n",
            "Requirement already satisfied: aiohappyeyeballs>=2.3.0 in /usr/local/lib/python3.10/dist-packages (from aiohttp<4.0.0,>=3.8.3->langchain) (2.4.3)\n",
            "Requirement already satisfied: aiosignal>=1.1.2 in /usr/local/lib/python3.10/dist-packages (from aiohttp<4.0.0,>=3.8.3->langchain) (1.3.1)\n",
            "Requirement already satisfied: attrs>=17.3.0 in /usr/local/lib/python3.10/dist-packages (from aiohttp<4.0.0,>=3.8.3->langchain) (24.2.0)\n",
            "Requirement already satisfied: frozenlist>=1.1.1 in /usr/local/lib/python3.10/dist-packages (from aiohttp<4.0.0,>=3.8.3->langchain) (1.5.0)\n",
            "Requirement already satisfied: multidict<7.0,>=4.5 in /usr/local/lib/python3.10/dist-packages (from aiohttp<4.0.0,>=3.8.3->langchain) (6.1.0)\n",
            "Requirement already satisfied: propcache>=0.2.0 in /usr/local/lib/python3.10/dist-packages (from aiohttp<4.0.0,>=3.8.3->langchain) (0.2.0)\n",
            "Requirement already satisfied: yarl<2.0,>=1.17.0 in /usr/local/lib/python3.10/dist-packages (from aiohttp<4.0.0,>=3.8.3->langchain) (1.17.2)\n",
            "Requirement already satisfied: jsonpatch<2.0,>=1.33 in /usr/local/lib/python3.10/dist-packages (from langchain-core<0.4.0,>=0.3.15->langchain) (1.33)\n",
            "Requirement already satisfied: packaging<25,>=23.2 in /usr/local/lib/python3.10/dist-packages (from langchain-core<0.4.0,>=0.3.15->langchain) (24.2)\n",
            "Requirement already satisfied: typing-extensions>=4.7 in /usr/local/lib/python3.10/dist-packages (from langchain-core<0.4.0,>=0.3.15->langchain) (4.12.2)\n",
            "Requirement already satisfied: httpx<1,>=0.23.0 in /usr/local/lib/python3.10/dist-packages (from langsmith<0.2.0,>=0.1.17->langchain) (0.27.2)\n",
            "Requirement already satisfied: orjson<4.0.0,>=3.9.14 in /usr/local/lib/python3.10/dist-packages (from langsmith<0.2.0,>=0.1.17->langchain) (3.10.11)\n",
            "Requirement already satisfied: requests-toolbelt<2.0.0,>=1.0.0 in /usr/local/lib/python3.10/dist-packages (from langsmith<0.2.0,>=0.1.17->langchain) (1.0.0)\n",
            "Requirement already satisfied: annotated-types>=0.6.0 in /usr/local/lib/python3.10/dist-packages (from pydantic<3.0.0,>=2.7.4->langchain) (0.7.0)\n",
            "Requirement already satisfied: pydantic-core==2.23.4 in /usr/local/lib/python3.10/dist-packages (from pydantic<3.0.0,>=2.7.4->langchain) (2.23.4)\n",
            "Requirement already satisfied: charset-normalizer<4,>=2 in /usr/local/lib/python3.10/dist-packages (from requests<3,>=2->langchain) (3.4.0)\n",
            "Requirement already satisfied: idna<4,>=2.5 in /usr/local/lib/python3.10/dist-packages (from requests<3,>=2->langchain) (3.10)\n",
            "Requirement already satisfied: urllib3<3,>=1.21.1 in /usr/local/lib/python3.10/dist-packages (from requests<3,>=2->langchain) (2.2.3)\n",
            "Requirement already satisfied: certifi>=2017.4.17 in /usr/local/lib/python3.10/dist-packages (from requests<3,>=2->langchain) (2024.8.30)\n",
            "Requirement already satisfied: greenlet!=0.4.17 in /usr/local/lib/python3.10/dist-packages (from SQLAlchemy<3,>=1.4->langchain) (3.1.1)\n",
            "Requirement already satisfied: anyio in /usr/local/lib/python3.10/dist-packages (from httpx<1,>=0.23.0->langsmith<0.2.0,>=0.1.17->langchain) (3.7.1)\n",
            "Requirement already satisfied: httpcore==1.* in /usr/local/lib/python3.10/dist-packages (from httpx<1,>=0.23.0->langsmith<0.2.0,>=0.1.17->langchain) (1.0.7)\n",
            "Requirement already satisfied: sniffio in /usr/local/lib/python3.10/dist-packages (from httpx<1,>=0.23.0->langsmith<0.2.0,>=0.1.17->langchain) (1.3.1)\n",
            "Requirement already satisfied: h11<0.15,>=0.13 in /usr/local/lib/python3.10/dist-packages (from httpcore==1.*->httpx<1,>=0.23.0->langsmith<0.2.0,>=0.1.17->langchain) (0.14.0)\n",
            "Requirement already satisfied: jsonpointer>=1.9 in /usr/local/lib/python3.10/dist-packages (from jsonpatch<2.0,>=1.33->langchain-core<0.4.0,>=0.3.15->langchain) (3.0.0)\n",
            "Requirement already satisfied: exceptiongroup in /usr/local/lib/python3.10/dist-packages (from anyio->httpx<1,>=0.23.0->langsmith<0.2.0,>=0.1.17->langchain) (1.2.2)\n",
            "Collecting pinecone-client==2.2.4\n",
            "  Downloading pinecone_client-2.2.4-py3-none-any.whl.metadata (7.8 kB)\n",
            "Requirement already satisfied: requests>=2.19.0 in /usr/local/lib/python3.10/dist-packages (from pinecone-client==2.2.4) (2.32.3)\n",
            "Requirement already satisfied: pyyaml>=5.4 in /usr/local/lib/python3.10/dist-packages (from pinecone-client==2.2.4) (6.0.2)\n",
            "Collecting loguru>=0.5.0 (from pinecone-client==2.2.4)\n",
            "  Downloading loguru-0.7.2-py3-none-any.whl.metadata (23 kB)\n",
            "Requirement already satisfied: typing-extensions>=3.7.4 in /usr/local/lib/python3.10/dist-packages (from pinecone-client==2.2.4) (4.12.2)\n",
            "Collecting dnspython>=2.0.0 (from pinecone-client==2.2.4)\n",
            "  Downloading dnspython-2.7.0-py3-none-any.whl.metadata (5.8 kB)\n",
            "Requirement already satisfied: python-dateutil>=2.5.3 in /usr/local/lib/python3.10/dist-packages (from pinecone-client==2.2.4) (2.8.2)\n",
            "Requirement already satisfied: urllib3>=1.21.1 in /usr/local/lib/python3.10/dist-packages (from pinecone-client==2.2.4) (2.2.3)\n",
            "Requirement already satisfied: tqdm>=4.64.1 in /usr/local/lib/python3.10/dist-packages (from pinecone-client==2.2.4) (4.66.6)\n",
            "Requirement already satisfied: numpy>=1.22.0 in /usr/local/lib/python3.10/dist-packages (from pinecone-client==2.2.4) (1.26.4)\n",
            "Requirement already satisfied: six>=1.5 in /usr/local/lib/python3.10/dist-packages (from python-dateutil>=2.5.3->pinecone-client==2.2.4) (1.16.0)\n",
            "Requirement already satisfied: charset-normalizer<4,>=2 in /usr/local/lib/python3.10/dist-packages (from requests>=2.19.0->pinecone-client==2.2.4) (3.4.0)\n",
            "Requirement already satisfied: idna<4,>=2.5 in /usr/local/lib/python3.10/dist-packages (from requests>=2.19.0->pinecone-client==2.2.4) (3.10)\n",
            "Requirement already satisfied: certifi>=2017.4.17 in /usr/local/lib/python3.10/dist-packages (from requests>=2.19.0->pinecone-client==2.2.4) (2024.8.30)\n",
            "Downloading pinecone_client-2.2.4-py3-none-any.whl (179 kB)\n",
            "\u001b[2K   \u001b[90m━━━━━━━━━━━━━━━━━━━━━━━━━━━━━━━━━━━━━━━━\u001b[0m \u001b[32m179.4/179.4 kB\u001b[0m \u001b[31m4.1 MB/s\u001b[0m eta \u001b[36m0:00:00\u001b[0m\n",
            "\u001b[?25hDownloading dnspython-2.7.0-py3-none-any.whl (313 kB)\n",
            "\u001b[2K   \u001b[90m━━━━━━━━━━━━━━━━━━━━━━━━━━━━━━━━━━━━━━━━\u001b[0m \u001b[32m313.6/313.6 kB\u001b[0m \u001b[31m12.4 MB/s\u001b[0m eta \u001b[36m0:00:00\u001b[0m\n",
            "\u001b[?25hDownloading loguru-0.7.2-py3-none-any.whl (62 kB)\n",
            "\u001b[2K   \u001b[90m━━━━━━━━━━━━━━━━━━━━━━━━━━━━━━━━━━━━━━━━\u001b[0m \u001b[32m62.5/62.5 kB\u001b[0m \u001b[31m4.1 MB/s\u001b[0m eta \u001b[36m0:00:00\u001b[0m\n",
            "\u001b[?25hInstalling collected packages: loguru, dnspython, pinecone-client\n",
            "Successfully installed dnspython-2.7.0 loguru-0.7.2 pinecone-client-2.2.4\n",
            "Requirement already satisfied: openai in /usr/local/lib/python3.10/dist-packages (1.54.4)\n",
            "Requirement already satisfied: anyio<5,>=3.5.0 in /usr/local/lib/python3.10/dist-packages (from openai) (3.7.1)\n",
            "Requirement already satisfied: distro<2,>=1.7.0 in /usr/local/lib/python3.10/dist-packages (from openai) (1.9.0)\n",
            "Requirement already satisfied: httpx<1,>=0.23.0 in /usr/local/lib/python3.10/dist-packages (from openai) (0.27.2)\n",
            "Requirement already satisfied: jiter<1,>=0.4.0 in /usr/local/lib/python3.10/dist-packages (from openai) (0.7.1)\n",
            "Requirement already satisfied: pydantic<3,>=1.9.0 in /usr/local/lib/python3.10/dist-packages (from openai) (2.9.2)\n",
            "Requirement already satisfied: sniffio in /usr/local/lib/python3.10/dist-packages (from openai) (1.3.1)\n",
            "Requirement already satisfied: tqdm>4 in /usr/local/lib/python3.10/dist-packages (from openai) (4.66.6)\n",
            "Requirement already satisfied: typing-extensions<5,>=4.11 in /usr/local/lib/python3.10/dist-packages (from openai) (4.12.2)\n",
            "Requirement already satisfied: idna>=2.8 in /usr/local/lib/python3.10/dist-packages (from anyio<5,>=3.5.0->openai) (3.10)\n",
            "Requirement already satisfied: exceptiongroup in /usr/local/lib/python3.10/dist-packages (from anyio<5,>=3.5.0->openai) (1.2.2)\n",
            "Requirement already satisfied: certifi in /usr/local/lib/python3.10/dist-packages (from httpx<1,>=0.23.0->openai) (2024.8.30)\n",
            "Requirement already satisfied: httpcore==1.* in /usr/local/lib/python3.10/dist-packages (from httpx<1,>=0.23.0->openai) (1.0.7)\n",
            "Requirement already satisfied: h11<0.15,>=0.13 in /usr/local/lib/python3.10/dist-packages (from httpcore==1.*->httpx<1,>=0.23.0->openai) (0.14.0)\n",
            "Requirement already satisfied: annotated-types>=0.6.0 in /usr/local/lib/python3.10/dist-packages (from pydantic<3,>=1.9.0->openai) (0.7.0)\n",
            "Requirement already satisfied: pydantic-core==2.23.4 in /usr/local/lib/python3.10/dist-packages (from pydantic<3,>=1.9.0->openai) (2.23.4)\n",
            "Collecting tiktoken\n",
            "  Downloading tiktoken-0.8.0-cp310-cp310-manylinux_2_17_x86_64.manylinux2014_x86_64.whl.metadata (6.6 kB)\n",
            "Requirement already satisfied: regex>=2022.1.18 in /usr/local/lib/python3.10/dist-packages (from tiktoken) (2024.9.11)\n",
            "Requirement already satisfied: requests>=2.26.0 in /usr/local/lib/python3.10/dist-packages (from tiktoken) (2.32.3)\n",
            "Requirement already satisfied: charset-normalizer<4,>=2 in /usr/local/lib/python3.10/dist-packages (from requests>=2.26.0->tiktoken) (3.4.0)\n",
            "Requirement already satisfied: idna<4,>=2.5 in /usr/local/lib/python3.10/dist-packages (from requests>=2.26.0->tiktoken) (3.10)\n",
            "Requirement already satisfied: urllib3<3,>=1.21.1 in /usr/local/lib/python3.10/dist-packages (from requests>=2.26.0->tiktoken) (2.2.3)\n",
            "Requirement already satisfied: certifi>=2017.4.17 in /usr/local/lib/python3.10/dist-packages (from requests>=2.26.0->tiktoken) (2024.8.30)\n",
            "Downloading tiktoken-0.8.0-cp310-cp310-manylinux_2_17_x86_64.manylinux2014_x86_64.whl (1.2 MB)\n",
            "\u001b[2K   \u001b[90m━━━━━━━━━━━━━━━━━━━━━━━━━━━━━━━━━━━━━━━━\u001b[0m \u001b[32m1.2/1.2 MB\u001b[0m \u001b[31m14.4 MB/s\u001b[0m eta \u001b[36m0:00:00\u001b[0m\n",
            "\u001b[?25hInstalling collected packages: tiktoken\n",
            "Successfully installed tiktoken-0.8.0\n",
            "Collecting pypdf\n",
            "  Downloading pypdf-5.1.0-py3-none-any.whl.metadata (7.2 kB)\n",
            "Requirement already satisfied: typing_extensions>=4.0 in /usr/local/lib/python3.10/dist-packages (from pypdf) (4.12.2)\n",
            "Downloading pypdf-5.1.0-py3-none-any.whl (297 kB)\n",
            "\u001b[2K   \u001b[90m━━━━━━━━━━━━━━━━━━━━━━━━━━━━━━━━━━━━━━━━\u001b[0m \u001b[32m298.0/298.0 kB\u001b[0m \u001b[31m6.6 MB/s\u001b[0m eta \u001b[36m0:00:00\u001b[0m\n",
            "\u001b[?25hInstalling collected packages: pypdf\n",
            "Successfully installed pypdf-5.1.0\n"
          ]
        }
      ],
      "source": [
        "!pip install langchain\n",
        "!pip install pinecone-client==2.2.4\n",
        "!pip install openai\n",
        "!pip install tiktoken\n",
        "!pip install pypdf"
      ]
    },
    {
      "cell_type": "code",
      "source": [
        "!pip install -U langchain-community"
      ],
      "metadata": {
        "colab": {
          "base_uri": "https://localhost:8080/"
        },
        "id": "jYsuqATUvuC8",
        "outputId": "4ef6bf6d-c167-46d6-c21d-021a33734818"
      },
      "execution_count": 3,
      "outputs": [
        {
          "output_type": "stream",
          "name": "stdout",
          "text": [
            "Collecting langchain-community\n",
            "  Downloading langchain_community-0.3.7-py3-none-any.whl.metadata (2.9 kB)\n",
            "Requirement already satisfied: PyYAML>=5.3 in /usr/local/lib/python3.10/dist-packages (from langchain-community) (6.0.2)\n",
            "Collecting SQLAlchemy<2.0.36,>=1.4 (from langchain-community)\n",
            "  Downloading SQLAlchemy-2.0.35-cp310-cp310-manylinux_2_17_x86_64.manylinux2014_x86_64.whl.metadata (9.6 kB)\n",
            "Requirement already satisfied: aiohttp<4.0.0,>=3.8.3 in /usr/local/lib/python3.10/dist-packages (from langchain-community) (3.11.2)\n",
            "Collecting dataclasses-json<0.7,>=0.5.7 (from langchain-community)\n",
            "  Downloading dataclasses_json-0.6.7-py3-none-any.whl.metadata (25 kB)\n",
            "Collecting httpx-sse<0.5.0,>=0.4.0 (from langchain-community)\n",
            "  Downloading httpx_sse-0.4.0-py3-none-any.whl.metadata (9.0 kB)\n",
            "Requirement already satisfied: langchain<0.4.0,>=0.3.7 in /usr/local/lib/python3.10/dist-packages (from langchain-community) (0.3.7)\n",
            "Requirement already satisfied: langchain-core<0.4.0,>=0.3.17 in /usr/local/lib/python3.10/dist-packages (from langchain-community) (0.3.19)\n",
            "Requirement already satisfied: langsmith<0.2.0,>=0.1.125 in /usr/local/lib/python3.10/dist-packages (from langchain-community) (0.1.143)\n",
            "Requirement already satisfied: numpy<2,>=1 in /usr/local/lib/python3.10/dist-packages (from langchain-community) (1.26.4)\n",
            "Collecting pydantic-settings<3.0.0,>=2.4.0 (from langchain-community)\n",
            "  Downloading pydantic_settings-2.6.1-py3-none-any.whl.metadata (3.5 kB)\n",
            "Requirement already satisfied: requests<3,>=2 in /usr/local/lib/python3.10/dist-packages (from langchain-community) (2.32.3)\n",
            "Requirement already satisfied: tenacity!=8.4.0,<10,>=8.1.0 in /usr/local/lib/python3.10/dist-packages (from langchain-community) (9.0.0)\n",
            "Requirement already satisfied: aiohappyeyeballs>=2.3.0 in /usr/local/lib/python3.10/dist-packages (from aiohttp<4.0.0,>=3.8.3->langchain-community) (2.4.3)\n",
            "Requirement already satisfied: aiosignal>=1.1.2 in /usr/local/lib/python3.10/dist-packages (from aiohttp<4.0.0,>=3.8.3->langchain-community) (1.3.1)\n",
            "Requirement already satisfied: attrs>=17.3.0 in /usr/local/lib/python3.10/dist-packages (from aiohttp<4.0.0,>=3.8.3->langchain-community) (24.2.0)\n",
            "Requirement already satisfied: frozenlist>=1.1.1 in /usr/local/lib/python3.10/dist-packages (from aiohttp<4.0.0,>=3.8.3->langchain-community) (1.5.0)\n",
            "Requirement already satisfied: multidict<7.0,>=4.5 in /usr/local/lib/python3.10/dist-packages (from aiohttp<4.0.0,>=3.8.3->langchain-community) (6.1.0)\n",
            "Requirement already satisfied: propcache>=0.2.0 in /usr/local/lib/python3.10/dist-packages (from aiohttp<4.0.0,>=3.8.3->langchain-community) (0.2.0)\n",
            "Requirement already satisfied: yarl<2.0,>=1.17.0 in /usr/local/lib/python3.10/dist-packages (from aiohttp<4.0.0,>=3.8.3->langchain-community) (1.17.2)\n",
            "Requirement already satisfied: async-timeout<6.0,>=4.0 in /usr/local/lib/python3.10/dist-packages (from aiohttp<4.0.0,>=3.8.3->langchain-community) (4.0.3)\n",
            "Collecting marshmallow<4.0.0,>=3.18.0 (from dataclasses-json<0.7,>=0.5.7->langchain-community)\n",
            "  Downloading marshmallow-3.23.1-py3-none-any.whl.metadata (7.5 kB)\n",
            "Collecting typing-inspect<1,>=0.4.0 (from dataclasses-json<0.7,>=0.5.7->langchain-community)\n",
            "  Downloading typing_inspect-0.9.0-py3-none-any.whl.metadata (1.5 kB)\n",
            "Requirement already satisfied: langchain-text-splitters<0.4.0,>=0.3.0 in /usr/local/lib/python3.10/dist-packages (from langchain<0.4.0,>=0.3.7->langchain-community) (0.3.2)\n",
            "Requirement already satisfied: pydantic<3.0.0,>=2.7.4 in /usr/local/lib/python3.10/dist-packages (from langchain<0.4.0,>=0.3.7->langchain-community) (2.9.2)\n",
            "Requirement already satisfied: jsonpatch<2.0,>=1.33 in /usr/local/lib/python3.10/dist-packages (from langchain-core<0.4.0,>=0.3.17->langchain-community) (1.33)\n",
            "Requirement already satisfied: packaging<25,>=23.2 in /usr/local/lib/python3.10/dist-packages (from langchain-core<0.4.0,>=0.3.17->langchain-community) (24.2)\n",
            "Requirement already satisfied: typing-extensions>=4.7 in /usr/local/lib/python3.10/dist-packages (from langchain-core<0.4.0,>=0.3.17->langchain-community) (4.12.2)\n",
            "Requirement already satisfied: httpx<1,>=0.23.0 in /usr/local/lib/python3.10/dist-packages (from langsmith<0.2.0,>=0.1.125->langchain-community) (0.27.2)\n",
            "Requirement already satisfied: orjson<4.0.0,>=3.9.14 in /usr/local/lib/python3.10/dist-packages (from langsmith<0.2.0,>=0.1.125->langchain-community) (3.10.11)\n",
            "Requirement already satisfied: requests-toolbelt<2.0.0,>=1.0.0 in /usr/local/lib/python3.10/dist-packages (from langsmith<0.2.0,>=0.1.125->langchain-community) (1.0.0)\n",
            "Collecting python-dotenv>=0.21.0 (from pydantic-settings<3.0.0,>=2.4.0->langchain-community)\n",
            "  Downloading python_dotenv-1.0.1-py3-none-any.whl.metadata (23 kB)\n",
            "Requirement already satisfied: charset-normalizer<4,>=2 in /usr/local/lib/python3.10/dist-packages (from requests<3,>=2->langchain-community) (3.4.0)\n",
            "Requirement already satisfied: idna<4,>=2.5 in /usr/local/lib/python3.10/dist-packages (from requests<3,>=2->langchain-community) (3.10)\n",
            "Requirement already satisfied: urllib3<3,>=1.21.1 in /usr/local/lib/python3.10/dist-packages (from requests<3,>=2->langchain-community) (2.2.3)\n",
            "Requirement already satisfied: certifi>=2017.4.17 in /usr/local/lib/python3.10/dist-packages (from requests<3,>=2->langchain-community) (2024.8.30)\n",
            "Requirement already satisfied: greenlet!=0.4.17 in /usr/local/lib/python3.10/dist-packages (from SQLAlchemy<2.0.36,>=1.4->langchain-community) (3.1.1)\n",
            "Requirement already satisfied: anyio in /usr/local/lib/python3.10/dist-packages (from httpx<1,>=0.23.0->langsmith<0.2.0,>=0.1.125->langchain-community) (3.7.1)\n",
            "Requirement already satisfied: httpcore==1.* in /usr/local/lib/python3.10/dist-packages (from httpx<1,>=0.23.0->langsmith<0.2.0,>=0.1.125->langchain-community) (1.0.7)\n",
            "Requirement already satisfied: sniffio in /usr/local/lib/python3.10/dist-packages (from httpx<1,>=0.23.0->langsmith<0.2.0,>=0.1.125->langchain-community) (1.3.1)\n",
            "Requirement already satisfied: h11<0.15,>=0.13 in /usr/local/lib/python3.10/dist-packages (from httpcore==1.*->httpx<1,>=0.23.0->langsmith<0.2.0,>=0.1.125->langchain-community) (0.14.0)\n",
            "Requirement already satisfied: jsonpointer>=1.9 in /usr/local/lib/python3.10/dist-packages (from jsonpatch<2.0,>=1.33->langchain-core<0.4.0,>=0.3.17->langchain-community) (3.0.0)\n",
            "Requirement already satisfied: annotated-types>=0.6.0 in /usr/local/lib/python3.10/dist-packages (from pydantic<3.0.0,>=2.7.4->langchain<0.4.0,>=0.3.7->langchain-community) (0.7.0)\n",
            "Requirement already satisfied: pydantic-core==2.23.4 in /usr/local/lib/python3.10/dist-packages (from pydantic<3.0.0,>=2.7.4->langchain<0.4.0,>=0.3.7->langchain-community) (2.23.4)\n",
            "Collecting mypy-extensions>=0.3.0 (from typing-inspect<1,>=0.4.0->dataclasses-json<0.7,>=0.5.7->langchain-community)\n",
            "  Downloading mypy_extensions-1.0.0-py3-none-any.whl.metadata (1.1 kB)\n",
            "Requirement already satisfied: exceptiongroup in /usr/local/lib/python3.10/dist-packages (from anyio->httpx<1,>=0.23.0->langsmith<0.2.0,>=0.1.125->langchain-community) (1.2.2)\n",
            "Downloading langchain_community-0.3.7-py3-none-any.whl (2.4 MB)\n",
            "\u001b[2K   \u001b[90m━━━━━━━━━━━━━━━━━━━━━━━━━━━━━━━━━━━━━━━━\u001b[0m \u001b[32m2.4/2.4 MB\u001b[0m \u001b[31m22.1 MB/s\u001b[0m eta \u001b[36m0:00:00\u001b[0m\n",
            "\u001b[?25hDownloading dataclasses_json-0.6.7-py3-none-any.whl (28 kB)\n",
            "Downloading httpx_sse-0.4.0-py3-none-any.whl (7.8 kB)\n",
            "Downloading pydantic_settings-2.6.1-py3-none-any.whl (28 kB)\n",
            "Downloading SQLAlchemy-2.0.35-cp310-cp310-manylinux_2_17_x86_64.manylinux2014_x86_64.whl (3.1 MB)\n",
            "\u001b[2K   \u001b[90m━━━━━━━━━━━━━━━━━━━━━━━━━━━━━━━━━━━━━━━━\u001b[0m \u001b[32m3.1/3.1 MB\u001b[0m \u001b[31m42.8 MB/s\u001b[0m eta \u001b[36m0:00:00\u001b[0m\n",
            "\u001b[?25hDownloading marshmallow-3.23.1-py3-none-any.whl (49 kB)\n",
            "\u001b[2K   \u001b[90m━━━━━━━━━━━━━━━━━━━━━━━━━━━━━━━━━━━━━━━━\u001b[0m \u001b[32m49.5/49.5 kB\u001b[0m \u001b[31m4.2 MB/s\u001b[0m eta \u001b[36m0:00:00\u001b[0m\n",
            "\u001b[?25hDownloading python_dotenv-1.0.1-py3-none-any.whl (19 kB)\n",
            "Downloading typing_inspect-0.9.0-py3-none-any.whl (8.8 kB)\n",
            "Downloading mypy_extensions-1.0.0-py3-none-any.whl (4.7 kB)\n",
            "Installing collected packages: SQLAlchemy, python-dotenv, mypy-extensions, marshmallow, httpx-sse, typing-inspect, pydantic-settings, dataclasses-json, langchain-community\n",
            "  Attempting uninstall: SQLAlchemy\n",
            "    Found existing installation: SQLAlchemy 2.0.36\n",
            "    Uninstalling SQLAlchemy-2.0.36:\n",
            "      Successfully uninstalled SQLAlchemy-2.0.36\n",
            "Successfully installed SQLAlchemy-2.0.35 dataclasses-json-0.6.7 httpx-sse-0.4.0 langchain-community-0.3.7 marshmallow-3.23.1 mypy-extensions-1.0.0 pydantic-settings-2.6.1 python-dotenv-1.0.1 typing-inspect-0.9.0\n"
          ]
        }
      ]
    },
    {
      "cell_type": "code",
      "source": [
        "!pip install langchain_huggingface"
      ],
      "metadata": {
        "colab": {
          "base_uri": "https://localhost:8080/"
        },
        "id": "VPoBz5BiwDAY",
        "outputId": "997e6eb2-0ad6-4b6d-d41d-d94bae16ebf9"
      },
      "execution_count": 4,
      "outputs": [
        {
          "output_type": "stream",
          "name": "stdout",
          "text": [
            "Collecting langchain_huggingface\n",
            "  Downloading langchain_huggingface-0.1.2-py3-none-any.whl.metadata (1.3 kB)\n",
            "Requirement already satisfied: huggingface-hub>=0.23.0 in /usr/local/lib/python3.10/dist-packages (from langchain_huggingface) (0.26.2)\n",
            "Requirement already satisfied: langchain-core<0.4.0,>=0.3.15 in /usr/local/lib/python3.10/dist-packages (from langchain_huggingface) (0.3.19)\n",
            "Requirement already satisfied: sentence-transformers>=2.6.0 in /usr/local/lib/python3.10/dist-packages (from langchain_huggingface) (3.2.1)\n",
            "Requirement already satisfied: tokenizers>=0.19.1 in /usr/local/lib/python3.10/dist-packages (from langchain_huggingface) (0.20.3)\n",
            "Requirement already satisfied: transformers>=4.39.0 in /usr/local/lib/python3.10/dist-packages (from langchain_huggingface) (4.46.2)\n",
            "Requirement already satisfied: filelock in /usr/local/lib/python3.10/dist-packages (from huggingface-hub>=0.23.0->langchain_huggingface) (3.16.1)\n",
            "Requirement already satisfied: fsspec>=2023.5.0 in /usr/local/lib/python3.10/dist-packages (from huggingface-hub>=0.23.0->langchain_huggingface) (2024.10.0)\n",
            "Requirement already satisfied: packaging>=20.9 in /usr/local/lib/python3.10/dist-packages (from huggingface-hub>=0.23.0->langchain_huggingface) (24.2)\n",
            "Requirement already satisfied: pyyaml>=5.1 in /usr/local/lib/python3.10/dist-packages (from huggingface-hub>=0.23.0->langchain_huggingface) (6.0.2)\n",
            "Requirement already satisfied: requests in /usr/local/lib/python3.10/dist-packages (from huggingface-hub>=0.23.0->langchain_huggingface) (2.32.3)\n",
            "Requirement already satisfied: tqdm>=4.42.1 in /usr/local/lib/python3.10/dist-packages (from huggingface-hub>=0.23.0->langchain_huggingface) (4.66.6)\n",
            "Requirement already satisfied: typing-extensions>=3.7.4.3 in /usr/local/lib/python3.10/dist-packages (from huggingface-hub>=0.23.0->langchain_huggingface) (4.12.2)\n",
            "Requirement already satisfied: jsonpatch<2.0,>=1.33 in /usr/local/lib/python3.10/dist-packages (from langchain-core<0.4.0,>=0.3.15->langchain_huggingface) (1.33)\n",
            "Requirement already satisfied: langsmith<0.2.0,>=0.1.125 in /usr/local/lib/python3.10/dist-packages (from langchain-core<0.4.0,>=0.3.15->langchain_huggingface) (0.1.143)\n",
            "Requirement already satisfied: pydantic<3.0.0,>=2.5.2 in /usr/local/lib/python3.10/dist-packages (from langchain-core<0.4.0,>=0.3.15->langchain_huggingface) (2.9.2)\n",
            "Requirement already satisfied: tenacity!=8.4.0,<10.0.0,>=8.1.0 in /usr/local/lib/python3.10/dist-packages (from langchain-core<0.4.0,>=0.3.15->langchain_huggingface) (9.0.0)\n",
            "Requirement already satisfied: torch>=1.11.0 in /usr/local/lib/python3.10/dist-packages (from sentence-transformers>=2.6.0->langchain_huggingface) (2.5.1+cu121)\n",
            "Requirement already satisfied: scikit-learn in /usr/local/lib/python3.10/dist-packages (from sentence-transformers>=2.6.0->langchain_huggingface) (1.5.2)\n",
            "Requirement already satisfied: scipy in /usr/local/lib/python3.10/dist-packages (from sentence-transformers>=2.6.0->langchain_huggingface) (1.13.1)\n",
            "Requirement already satisfied: Pillow in /usr/local/lib/python3.10/dist-packages (from sentence-transformers>=2.6.0->langchain_huggingface) (11.0.0)\n",
            "Requirement already satisfied: numpy>=1.17 in /usr/local/lib/python3.10/dist-packages (from transformers>=4.39.0->langchain_huggingface) (1.26.4)\n",
            "Requirement already satisfied: regex!=2019.12.17 in /usr/local/lib/python3.10/dist-packages (from transformers>=4.39.0->langchain_huggingface) (2024.9.11)\n",
            "Requirement already satisfied: safetensors>=0.4.1 in /usr/local/lib/python3.10/dist-packages (from transformers>=4.39.0->langchain_huggingface) (0.4.5)\n",
            "Requirement already satisfied: jsonpointer>=1.9 in /usr/local/lib/python3.10/dist-packages (from jsonpatch<2.0,>=1.33->langchain-core<0.4.0,>=0.3.15->langchain_huggingface) (3.0.0)\n",
            "Requirement already satisfied: httpx<1,>=0.23.0 in /usr/local/lib/python3.10/dist-packages (from langsmith<0.2.0,>=0.1.125->langchain-core<0.4.0,>=0.3.15->langchain_huggingface) (0.27.2)\n",
            "Requirement already satisfied: orjson<4.0.0,>=3.9.14 in /usr/local/lib/python3.10/dist-packages (from langsmith<0.2.0,>=0.1.125->langchain-core<0.4.0,>=0.3.15->langchain_huggingface) (3.10.11)\n",
            "Requirement already satisfied: requests-toolbelt<2.0.0,>=1.0.0 in /usr/local/lib/python3.10/dist-packages (from langsmith<0.2.0,>=0.1.125->langchain-core<0.4.0,>=0.3.15->langchain_huggingface) (1.0.0)\n",
            "Requirement already satisfied: annotated-types>=0.6.0 in /usr/local/lib/python3.10/dist-packages (from pydantic<3.0.0,>=2.5.2->langchain-core<0.4.0,>=0.3.15->langchain_huggingface) (0.7.0)\n",
            "Requirement already satisfied: pydantic-core==2.23.4 in /usr/local/lib/python3.10/dist-packages (from pydantic<3.0.0,>=2.5.2->langchain-core<0.4.0,>=0.3.15->langchain_huggingface) (2.23.4)\n",
            "Requirement already satisfied: charset-normalizer<4,>=2 in /usr/local/lib/python3.10/dist-packages (from requests->huggingface-hub>=0.23.0->langchain_huggingface) (3.4.0)\n",
            "Requirement already satisfied: idna<4,>=2.5 in /usr/local/lib/python3.10/dist-packages (from requests->huggingface-hub>=0.23.0->langchain_huggingface) (3.10)\n",
            "Requirement already satisfied: urllib3<3,>=1.21.1 in /usr/local/lib/python3.10/dist-packages (from requests->huggingface-hub>=0.23.0->langchain_huggingface) (2.2.3)\n",
            "Requirement already satisfied: certifi>=2017.4.17 in /usr/local/lib/python3.10/dist-packages (from requests->huggingface-hub>=0.23.0->langchain_huggingface) (2024.8.30)\n",
            "Requirement already satisfied: networkx in /usr/local/lib/python3.10/dist-packages (from torch>=1.11.0->sentence-transformers>=2.6.0->langchain_huggingface) (3.4.2)\n",
            "Requirement already satisfied: jinja2 in /usr/local/lib/python3.10/dist-packages (from torch>=1.11.0->sentence-transformers>=2.6.0->langchain_huggingface) (3.1.4)\n",
            "Requirement already satisfied: sympy==1.13.1 in /usr/local/lib/python3.10/dist-packages (from torch>=1.11.0->sentence-transformers>=2.6.0->langchain_huggingface) (1.13.1)\n",
            "Requirement already satisfied: mpmath<1.4,>=1.1.0 in /usr/local/lib/python3.10/dist-packages (from sympy==1.13.1->torch>=1.11.0->sentence-transformers>=2.6.0->langchain_huggingface) (1.3.0)\n",
            "Requirement already satisfied: joblib>=1.2.0 in /usr/local/lib/python3.10/dist-packages (from scikit-learn->sentence-transformers>=2.6.0->langchain_huggingface) (1.4.2)\n",
            "Requirement already satisfied: threadpoolctl>=3.1.0 in /usr/local/lib/python3.10/dist-packages (from scikit-learn->sentence-transformers>=2.6.0->langchain_huggingface) (3.5.0)\n",
            "Requirement already satisfied: anyio in /usr/local/lib/python3.10/dist-packages (from httpx<1,>=0.23.0->langsmith<0.2.0,>=0.1.125->langchain-core<0.4.0,>=0.3.15->langchain_huggingface) (3.7.1)\n",
            "Requirement already satisfied: httpcore==1.* in /usr/local/lib/python3.10/dist-packages (from httpx<1,>=0.23.0->langsmith<0.2.0,>=0.1.125->langchain-core<0.4.0,>=0.3.15->langchain_huggingface) (1.0.7)\n",
            "Requirement already satisfied: sniffio in /usr/local/lib/python3.10/dist-packages (from httpx<1,>=0.23.0->langsmith<0.2.0,>=0.1.125->langchain-core<0.4.0,>=0.3.15->langchain_huggingface) (1.3.1)\n",
            "Requirement already satisfied: h11<0.15,>=0.13 in /usr/local/lib/python3.10/dist-packages (from httpcore==1.*->httpx<1,>=0.23.0->langsmith<0.2.0,>=0.1.125->langchain-core<0.4.0,>=0.3.15->langchain_huggingface) (0.14.0)\n",
            "Requirement already satisfied: MarkupSafe>=2.0 in /usr/local/lib/python3.10/dist-packages (from jinja2->torch>=1.11.0->sentence-transformers>=2.6.0->langchain_huggingface) (3.0.2)\n",
            "Requirement already satisfied: exceptiongroup in /usr/local/lib/python3.10/dist-packages (from anyio->httpx<1,>=0.23.0->langsmith<0.2.0,>=0.1.125->langchain-core<0.4.0,>=0.3.15->langchain_huggingface) (1.2.2)\n",
            "Downloading langchain_huggingface-0.1.2-py3-none-any.whl (21 kB)\n",
            "Installing collected packages: langchain_huggingface\n",
            "Successfully installed langchain_huggingface-0.1.2\n"
          ]
        }
      ]
    },
    {
      "cell_type": "code",
      "source": [
        "from langchain.document_loaders import DirectoryLoader\n",
        "from langchain.document_loaders import TextLoader\n",
        "from langchain.text_splitter import RecursiveCharacterTextSplitter\n",
        "from langchain_community.embeddings import HuggingFaceEmbeddings\n",
        "from langchain.embeddings import HuggingFaceEmbeddings\n",
        "from langchain.vectorstores import Chroma\n",
        "from langchain.vectorstores import Pinecone\n",
        "from langchain.chat_models import ChatOpenAI\n",
        "from langchain.chains import RetrievalQA\n",
        "from langchain_huggingface import ChatHuggingFace, HuggingFacePipeline\n"
      ],
      "metadata": {
        "id": "NxbtX1MbJt43"
      },
      "execution_count": 5,
      "outputs": []
    },
    {
      "cell_type": "code",
      "source": [
        "from langchain.prompts import PromptTemplate\n",
        "from langchain.chains import LLMChain"
      ],
      "metadata": {
        "id": "LBhCwq-wJt8P"
      },
      "execution_count": 6,
      "outputs": []
    },
    {
      "cell_type": "code",
      "source": [
        "from langchain_huggingface import ChatHuggingFace, HuggingFacePipeline\n",
        "loader = TextLoader(\"/content/TheStarryNight.txt\")\n",
        "\n",
        "data=loader.load()"
      ],
      "metadata": {
        "id": "X-7l7vTtwR0M"
      },
      "execution_count": 7,
      "outputs": []
    },
    {
      "cell_type": "code",
      "source": [
        "data"
      ],
      "metadata": {
        "colab": {
          "base_uri": "https://localhost:8080/"
        },
        "id": "AZlBt85Lw-FG",
        "outputId": "9074de6f-e768-4a0f-b97c-320c5f46a955"
      },
      "execution_count": 8,
      "outputs": [
        {
          "output_type": "execute_result",
          "data": {
            "text/plain": [
              "[Document(metadata={'source': '/content/TheStarryNight.txt'}, page_content='The Starry Night is an oil-on-canvas painting by the Dutch Post-Impressionist painter Vincent van Gogh, painted in June 1889. It depicts the view from the east-facing window of his asylum room at Saint-Rémy-de-Provence, just before sunrise, with the addition of an imaginary village.[1][2][3] It has been in the permanent collection of the Museum of Modern Art in New York City since 1941,[4] acquired through the Lillie P. Bliss Bequest. Widely regarded as Van Gogh\\'s magnum opus,[5] The Starry Night is one of the most recognizable paintings in Western art.[6][7]\\n\\nThe asylum\\n\\nThe Monastery of Saint-Paul de Mausole\\nIn the aftermath of the 23 December 1888 breakdown that resulted in the self-mutilation of his left ear,[8][9] Van Gogh voluntarily admitted himself to the Saint-Paul-de-Mausole lunatic asylum on 8 May 1889.[10][11] Housed in a former monastery, Saint-Paul-de-Mausole catered to the wealthy and was less than half full when Van Gogh arrived,[12] allowing him to occupy not only a second-story bedroom but also a ground-floor room for use as a painting studio.[13]\\n\\nDuring the year Van Gogh stayed at the asylum in Saint-Rémy-de-Provence, the prolific output of paintings he had begun in Arles continued.[14] During this period, he produced some of the best-known works of his career, including the Irises from May 1889, now in the J. Paul Getty Museum, and the blue self-portrait from September 1889, in the Musée d\\'Orsay. The Starry Night was painted mid-June by around 18 June, the date he wrote to his brother Theo to say he had a new study of a starry sky.[1][15][16][L 1]\\n\\nThe painting\\n\\nVan Gogh\\'s bedroom in the asylum\\nAlthough The Starry Night was painted during the day in Van Gogh\\'s ground-floor studio, it would be inaccurate to state that the picture was painted from memory. The view has been identified as the one from his bedroom window, facing east,[1][2][17][18] a view which Van Gogh painted variations of no fewer than twenty-one times,[citation needed] including The Starry Night. \"Through the iron-barred window\", he wrote to his brother, Theo, around 23 May 1889, \"I can see an enclosed square of wheat ... above which, in the morning, I watch the sun rise in all its glory.\"[2][L 2]\\n\\nVan Gogh depicted the view at different times of the day and under various weather conditions, such as the sunrise, moonrise, sunshine-filled days, overcast days, windy days, and one day with rain. While the hospital staff did not allow Van Gogh to paint in his bedroom, he was able there to make sketches in ink or charcoal on paper; eventually, he would base newer variations on previous versions. The pictorial element uniting all of these paintings is the diagonal line coming in from the right depicting the low rolling hills of the Alpilles mountains. In fifteen of the twenty-one versions, cypress trees are visible beyond the far wall enclosing the wheat field. Van Gogh exaggerated their size in six of these paintings, most notably in F717 Wheat Field with Cypresses and The Starry Night, bringing the trees closer to the picture plane.[citation needed]\\n\\nOne of the first paintings of the view was F611 Mountainous Landscape Behind Saint-Rémy, now in Copenhagen. Van Gogh made several sketches for the painting, of which F1547 The Enclosed Wheatfield After a Storm is typical. It is unclear whether the painting was made in his studio or outside. In his 9 June letter describing it, he mentions he had been working outside for a few days.[19][20][L 3][15] Van Gogh described the second of the two landscapes he mentions he was working on, in a letter to his sister Wil on 16 June 1889.[19][L 4] This is F719 Green Wheat Field with Cypress, now in Prague, and the first painting at the asylum he painted en plein air.[19] F1548 Wheatfield, Saint-Rémy de Provence, now in New York, is a study for it. Two days later, Vincent wrote to Theo stating that he had painted \"a starry sky\".[21][L 1]\\n\\nThe Starry Night is the only nocturne in the series of views from his bedroom window. In early June, Vincent wrote to Theo, \"This morning I saw the countryside from my window a long time before sunrise with nothing but the morning star, which looked very big\".[L 5] Researchers have determined that Venus (sometimes referred to as the \"morning star\") was indeed visible at dawn in Provence in the spring of 1889, and was at that time nearly as bright as possible. So the brightest \"star\" in the painting, just to the viewer\\'s right of the cypress tree, is Venus.[15][17]\\n\\nThe Moon is stylized, as astronomical records indicate that it was waning gibbous at the time Van Gogh painted the picture,[15] and even if the phase of the Moon had been its waning crescent at the time, Van Gogh\\'s Moon would not have been astronomically correct. (For other interpretations of the Moon, see below.) The one pictorial element that was not visible from Van Gogh\\'s cell is the village,[22] which is based on a sketch (F1541v) made from a hillside above the village of Saint-Rémy.[3] Pickvance thought F1541v was done later, and the steeple more Dutch than Provençal, a conflation of several Van Gogh had painted and drawn in his Nuenen period, and thus the first of his \"reminisces of the North\" he was to paint and draw early the following year.[1] Hulsker thought a landscape on the reverse (F1541r) was also a study for the painting.[23]\\n\\nF1548 Wheatfield, Saint-Rémy de Provence, Morgan Library & Museum\\nF1548 Wheatfield, Saint-Rémy de Provence, Morgan Library & Museum\\n \\nF719 Green Wheat Field with Cypress, National Gallery Prague\\nF719 Green Wheat Field with Cypress, National Gallery Prague\\n \\nF1547 The Enclosed Wheatfield After a Storm, Van Gogh Museum\\nF1547 The Enclosed Wheatfield After a Storm, Van Gogh Museum\\n \\nF611 Mountainous Landscape Behind Saint-Rémy, Ny Carlsberg Glyptotek\\nF611 Mountainous Landscape Behind Saint-Rémy, Ny Carlsberg Glyptotek\\n \\nF1541v Bird\\'s-Eye View of the Village, Van Gogh Museum\\nF1541v Bird\\'s-Eye View of the Village, Van Gogh Museum\\n \\nF1541r Landscape with Cypresses, Van Gogh Museum\\nF1541r Landscape with Cypresses, Van Gogh Museum\\nInterpretations\\nDespite the large number of letters Van Gogh wrote, he said very little about The Starry Night.[1] After reporting that he had painted a starry sky in June, Van Gogh next mentioned the painting in a letter to Theo on or about 20 September 1889, when he included it in a list of paintings he was sending to his brother in Paris, referring to it as a \"night study.\"[24] Of this list of paintings, he wrote, \"All in all the only things I consider a little good in it are the Wheatfield, the Mountain, the Orchard, the Olive trees with the blue hills and the Portrait and the Entrance to the quarry, and the rest says nothing to me\"; \"the rest\" would include The Starry Night. When he decided to hold back three paintings from this batch to save money on postage, The Starry Night was one of the paintings he did not send.[25] Finally, in a letter to painter Émile Bernard from late November 1889, Van Gogh referred to the painting as a \"failure.\"[26]\\n\\nVan Gogh argued with Bernard and especially Paul Gauguin as to whether one should paint from nature, as Van Gogh preferred,[27] or paint what Gauguin called \"abstractions\":[28] paintings conceived in the imagination, or de tête.[29] In the letter to Bernard, Van Gogh recounted his experiences when Gauguin lived with him from October 23, 1888, to December 25 of the same year.[30] \"When Gauguin was in Arles, I once or twice allowed myself to be led astray into abstraction, as you know. . . . But that was a delusion, dear friend, and one soon comes up against a brick wall. . . And yet, once again I allowed myself to be led astray into reaching for stars that are too big—another failure—and I have had my fill of that.\"[31] Van Gogh here is referring to the expressionistic swirls which dominate the upper center portion of The Starry Night.[32]\\n\\nTheo referred to these pictorial elements in a letter to Vincent dated 22 October 1889: \"I sense what preoccupies you in the new canvases like the village in the moonlight [The Starry Night] or the mountains, but I feel that the search for style takes away the real sentiment of things.\"[26] Vincent responded in early November, \"Despite what you say in your previous letter, that the search for style often harms other qualities, the fact is that I feel greatly driven to seek style if you like, but I mean by that a more manly and more deliberate drawing. If that will make me more like Bernard or Gauguin, I can\\'t do anything about it. But am inclined to believe that in the long run, you\\'d get used to it.\" And later in the same letter, he wrote, \"I know very well that the studies drawn with long, sinuous lines from the last consignment weren\\'t what they ought to become, however, I dare urge you to believe that in landscapes one will continue to mass things by means of a drawing style that seeks to express the entanglement of the masses.\"[33]\\n\\nBut although Van Gogh periodically defended the practices of Gauguin and Bernard, each time he inevitably repudiated them[34] and continued with his preferred method of painting from nature.[35] Like the impressionists he had met in Paris, especially Claude Monet, Van Gogh also favored working in series. He had painted his series of sunflowers in Arles, and he painted the series of cypresses and wheat fields at Saint-Rémy. The Starry Night belongs to this latter series,[36] as well as to a small series of nocturnes he initiated in Arles.\\n\\n\\nVan Gogh\\'s Starry Night Over the Rhône, 1888, oil on canvas\\nThe nocturne series was limited by the difficulties posed by painting such scenes from nature, i.e., at night.[37] The first painting in the series was Café Terrace at Night, painted in Arles in early September 1888, followed by Starry Night (Over the Rhône) later that same month. Van Gogh\\'s written statements concerning these paintings provide further insight into his intentions for painting night studies in general and The Starry Night in particular.\\n\\nSoon after he arrives in Arles in February 1888, Van Gogh wrote to Theo, \"I need a starry night with cypresses or—perhaps above a field of ripe wheat; there are some really beautiful nights here.\" That same week, he wrote to Bernard, \"A starry sky is something I should like to try to do, just as in the daytime I am going to try to paint a green meadow spangled with dandelions.\"[38] He compared the stars to dots on a map and mused that, as one takes a train to travel on Earth, \"we take death to reach a star.\"[39] Although at this point in his life Van Gogh was disillusioned by religion,[40][41] he appears not to have lost his belief in an afterlife. He voiced this ambivalence in a letter to Theo after having painted Starry Night Over the Rhône, confessing to a \"tremendous need for, shall I say the word—for religion—so I go outside at night to paint the stars.\"[42]\\n\\nHe wrote about existing in another dimension after death and associated this dimension with the night sky. \"It would be so simple and would account so much for the terrible things in life, which now amaze and wound us so if life had yet another hemisphere, invisible it is true, but where one lands when one dies.\"[43] \"Hope is in the stars,\" he wrote, but he was quick to point out that \"this earth is a planet too, and consequently a star, or celestial orb.\"[38] And he stated flatly that The Starry Night was \"not a return to the romantic or to religious ideas.\"[44]\\n\\nNoted art historian Meyer Schapiro highlights the expressionistic aspects of The Starry Night, saying it was created under the \"pressure of feeling\" and that it is a \"visionary [painting] inspired by a religious mood.\"[45] Schapiro theorizes that the \"hidden content\"[45] of the work refers to the New Testament Book of Revelation, revealing an \"apocalyptic theme of the woman in pain of birth, girded with the sun and moon and crowned with stars, whose newborn child is threatened by the dragon.\"[46] (Schapiro, in the same volume, also professes to see an image of a mother and child in the clouds in Landscape with Olive Trees,[47] painted at the same time and often regarded as a pendant to The Starry Night.)[48]\\n\\nArt historian Sven Loevgren expands on Schapiro\\'s approach, again calling The Starry Night a \"visionary painting\" that \"was conceived in a state of great agitation.\"[49] He writes of the \"hallucinatory character of the painting and its violently expressive form,\" although he takes pains to note that the painting was not executed during one of Van Gogh\\'s incapacitating breakdowns.[50] Loevgren compares Van Gogh\\'s \"religiously inclined longing for the beyond\" to the poetry of Walt Whitman.[51] He calls The Starry Night \"an infinitely expressive picture which symbolizes the final absorption of the artist by the cosmos\" and which \"gives a never-to-be-forgotten sensation of standing on the threshold of eternity.\"[52] Loevgren praises Schapiro\\'s \"eloquent interpretation\" of the painting as an apocalyptic vision[53] and advances his symbolist theory concerning the eleven stars in one of Joseph\\'s dreams in the Old Testament Book of Genesis.[54] Loevgren asserts that the pictorial elements of The Starry Night \"are visualized in purely symbolic terms\" and notes that \"the cypress is the tree of death in the Mediterranean countries.\"[55]\\n\\n\\nThe drawing Cypresses in Starry Night, a reed pen copy executed by Van Gogh after the painting in 1889. Originally held at Kunsthalle Bremen, today part of the disputed Baldin Collection.[56][57]\\nArt historian Lauren Soth also finds a symbolist subtext in The Starry Night, saying that the painting is a \"traditional religious subject in disguise\"[58] and a \"sublimated image of [Van Gogh\\'s] deepest religious feelings.\"[59] Citing Van Gogh\\'s avowed admiration for the paintings of Eugène Delacroix, and especially the earlier painter\\'s use of Prussian blue and citron yellow in paintings of Christ, Soth theorizes that Van Gogh used these colors to represent Christ in The Starry Night.[60] He criticizes Schapiro\\'s and Loevgren\\'s biblical interpretations, dependent as they are on a reading of the crescent moon as incorporating elements of the Sun. He says it is merely a crescent moon, which, he writes, also had symbolic meaning for Van Gogh, representing \"consolation.\"[61]\\n\\nIt is in light of such symbolist interpretations of The Starry Night that art historian Albert Boime presents his study of the painting. As noted above, Boime has proven that the painting depicts not only the topographical elements of Van Gogh\\'s view from his asylum window but also the celestial elements, identifying not only Venus but also the constellation Aries.[17] He suggests that Van Gogh originally intended to paint a gibbous moon but \"reverted to a more traditional image\" of the crescent moon, and theorizes that the bright aureole around the resulting crescent is a remnant of the original gibbous version.[22] He recounts Van Gogh\\'s interest in the writings of Victor Hugo and Jules Verne as a possible inspiration for his belief in an afterlife on stars or planets.[62] he provides a detailed discussion of the well-publicized advances in astronomy that took place during Van Gogh\\'s lifetime.\\n\\nBoime asserts that while Van Gogh never mentioned astronomer Camille Flammarion in his letters,[63] he believes that Van Gogh must have been aware of Flammarion\\'s popular illustrated publications, which included drawings of spiral nebulae (as galaxies were then called) as seen and photographed through telescopes. Boime interprets the swirling figure in the central portion of the sky in The Starry Night to represent either a spiral galaxy or a comet, photographs of which had also been published in popular media.[22] He asserts that the only non-realistic elements of the painting are the village and the swirls in the sky. These swirls represent Van Gogh\\'s understanding of the cosmos as a living, dynamic place.[64]\\n\\nHarvard astronomer Charles A. Whitney conducted his astronomical study of The Starry Night contemporaneously with but independent of Boime (who spent almost his entire career at U.C.L.A.).[65] While Whitney does not share Boime\\'s certainty about the constellation Aries,[66] he concurs with Boime on the visibility of Venus in Provence at the time the painting was executed.[15] He also sees the depiction of a spiral galaxy in the sky, although he gives credit for the original to Anglo-Irish astronomer William Parsons, 3rd Earl of Rosse, whose work Flammarion reproduced.[67]\\n\\n\\nSketch of the Whirlpool Galaxy by Lord Rosse in 1845, 44 years before Van Gogh\\'s painting\\nWhitney also theorizes that the swirls in the sky could represent wind, evoking the mistral that had such a profound effect on Van Gogh during the twenty-seven months he spent in Provence.[18] (It was the mistral which triggered his first breakdown after entering the asylum, in July 1889, less than a month after painting The Starry Night.)[68] Boime theorizes that the lighter shades of blue just above the horizon show the first light of morning.[22]\\n\\nThe village has been variously identified as either a recollection of Van Gogh\\'s Dutch homeland,[1][69] or based on a sketch he made of the town of Saint-Rémy.[3][22] In either case, it is an imaginary component of the picture, not visible from the window of the asylum bedroom.\\n\\nCypress trees have long been associated with death in European culture, though the question of whether Van Gogh intended for them to have such a symbolic meaning in The Starry Night is the subject of an open debate. In an April 1888 letter to Bernard, Van Gogh referred to \"funereal cypresses,\"[70] though this is possibly similar to saying \"stately oaks\" or \"weeping willows.\" One week after painting The Starry Night, he wrote to his brother Theo, \"The cypresses are always occupying my thoughts. I should like to make something of them like the canvases of the sunflowers because it astonishes me that they have not yet been done as I see them.\"[71] In the same letter he mentioned \"two studies of cypresses of that difficult shade of bottle green.\"[72] These statements suggest that Van Gogh was interested in the trees more for their formal qualities than for their symbolic connotation.\\n\\nSchapiro refers to the cypress in the painting as a \"vague symbol of a human striving.\"[45] Boime calls it the \"symbolic counterpart of Van Gogh\\'s own striving for the Infinite through non-orthodox channels.\"[63] Art historian Vojtech Jirat-Wasiutynski says that for Van Gogh the cypresses \"function as rustic and natural obelisks\" providing a \"link between the heavens and the earth.\"[73] (Some commentators see one tree, others see two or more.) Loevgren reminds the reader that \"the cypress is the tree of death in the Mediterranean countries.\"[55]\\n\\nArt historian Ronald Pickvance says that with \"its arbitrary collage of separate motifs,\" The Starry Night \"is overtly stamped as an \\'abstraction\\'\".[74] Pickvance claims that cypress trees were not visible facing east from Van Gogh\\'s room, and he includes them with the village and the swirls in the sky as products of Van Gogh\\'s imagination.[1] Boime asserts that the cypresses were visible in the east,[17] as does Jirat-Wasiutyński.[75] Van Gogh biographers Steven Naifeh and Gregory White Smith concur, saying that Van Gogh \"telescoped\" the view in certain of the pictures of the view from his window,[21] and it stands to reason that Van Gogh would do this in a painting featuring the Morning Star. Such a compression of depth serves to enhance the brightness of the planet.\\n\\nSoth uses Van Gogh\\'s statement to his brother, that The Starry Night is \"an exaggeration from the point of view of arrangement\" to further his argument that the painting is \"an amalgam of images.\"[76] However, it is by no means certain that Van Gogh was using \"arrangement\" as a synonym for \"composition.\" Van Gogh was speaking of three paintings, one of which was The Starry Night, when he made this comment: \"The olive trees with white cloud and background of mountains, as well as the Moonrise and the Night effect,\" as he called it, \"these are exaggerations from the point of view of the arrangement, their lines are contorted like those of the ancient woodcuts.\" The first two pictures are universally acknowledged to be realistic, non-composite views of their subjects. What the three pictures do have in common is exaggerated color and brushwork of the type that Theo referred to when he criticized Van Gogh for his \"search for style [that] takes away the real sentiment of things\" in The Starry Night.\\n\\nOn two other occasions around this time, Van Gogh used the word \"arrangement\" to refer to color, similar to the way James Abbott McNeill Whistler used the term. In a letter to Gauguin in January 1889, he wrote, \"As an arrangement of colours: the reds moving through to pure oranges, intensifying even more in the flesh tones up to the chromes, passing into the pinks and marrying with the olive and Veronese greens. As an impressionist arrangement of colours, I\\'ve never devised anything better.\"[77] (The painting he is referring to is La Berceuse, which is a realistic portrait of Augustine Roulin with an imaginative floral background.) And to Bernard in late November 1889: \"But this is enough for you to understand that I would long to see things of yours again, like the painting of yours that Gauguin has, those Breton women walking in a meadow, the arrangement of which is so beautiful, the colour so naively distinguished. Ah, you\\'re exchanging that for something—must one say the word—something artificial—something affected.\"[78][79]\\n\\nWhile stopping short of calling the painting a hallucinatory vision, Naifeh and Smith discuss The Starry Night in the context of Van Gogh\\'s mental illness, which they identify as temporal lobe epilepsy, or latent epilepsy.[80] \"Not the kind,\" they write, \"known since antiquity, that caused the limbs to jerk and the body to collapse (\\'the falling sickness\\', as it was sometimes called), but a mental epilepsy—a seizing up of the mind: a collapse of thought, perception, reason, and emotion that manifested itself entirely in the brain and often prompted bizarre, dramatic behavior.\"[81] Symptoms of the seizures \"resembled fireworks of electrical impulses in the brain.\"[32]\\n\\nVan Gogh experienced his second breakdown in seven months in July 1889.[68] Naifeh and Smith theorize that the seeds of this breakdown were present when Van Gogh painted The Starry Night, that in giving himself over to his imagination \"his defenses had been breached.\"[82] On that day in mid-June, in a \"state of heightened reality,\" with all the other elements of the painting in place,[83] Van Gogh threw himself into the painting of the stars, producing, they write, \"a night sky unlike any other the world had ever seen with ordinary eyes.\"[32] The painting echoes his thoughts and the state of mind he was in. Despite the darkness there is always hope at the end of the tunnel.\\n\\nProvenance\\nAfter having initially held it back, Van Gogh sent The Starry Night to Theo in Paris on 28 September 1889, along with nine or ten other paintings.[25][74] Theo died less than six months after Vincent, in January 1891. Theo\\'s widow Jo became the caretaker of Van Gogh\\'s legacy. In Paris in 1900 she sold the painting to a poet Julien Leclercq. In 1901 Leclercq sold it to Gauguin\\'s old friend Émile Schuffenecker. Jo bought the painting back from Schuffenecker and in 1906 sold it to the Oldenzeel Gallery in Rotterdam. From 1906 to 1938 it was owned by Georgette P. van Stolk, of Rotterdam, who sold it to Paul Rosenberg, of Paris and New York. It was through Rosenberg that the Museum of Modern Art acquired the painting in 1941.[84]\\n\\nPainting materials\\nThe painting was investigated by scientists at the Rochester Institute of Technology and the Museum of Modern Art in New York.[85] The pigment analysis has shown that the sky was painted with ultramarine and cobalt blue, and for the stars and the moon, Van Gogh employed the rare pigment indian yellow together with zinc yellow.[86]')]"
            ]
          },
          "metadata": {},
          "execution_count": 8
        }
      ]
    },
    {
      "cell_type": "markdown",
      "source": [
        "Splitting into chunks\n"
      ],
      "metadata": {
        "id": "7mgJOLwpxFz5"
      }
    },
    {
      "cell_type": "code",
      "source": [
        "text_splitter = RecursiveCharacterTextSplitter(chunk_size=500, chunk_overlap=20)\n",
        "text_chunks = text_splitter.split_documents(data)"
      ],
      "metadata": {
        "id": "aCQCfOLixFQC"
      },
      "execution_count": 9,
      "outputs": []
    },
    {
      "cell_type": "code",
      "source": [
        "text_chunks"
      ],
      "metadata": {
        "colab": {
          "base_uri": "https://localhost:8080/"
        },
        "id": "V0rBB1O8w_XY",
        "outputId": "c9a9600c-7273-4563-ad01-806b30948f4b"
      },
      "execution_count": 10,
      "outputs": [
        {
          "output_type": "execute_result",
          "data": {
            "text/plain": [
              "[Document(metadata={'source': '/content/TheStarryNight.txt'}, page_content=\"The Starry Night is an oil-on-canvas painting by the Dutch Post-Impressionist painter Vincent van Gogh, painted in June 1889. It depicts the view from the east-facing window of his asylum room at Saint-Rémy-de-Provence, just before sunrise, with the addition of an imaginary village.[1][2][3] It has been in the permanent collection of the Museum of Modern Art in New York City since 1941,[4] acquired through the Lillie P. Bliss Bequest. Widely regarded as Van Gogh's magnum opus,[5] The Starry\"),\n",
              " Document(metadata={'source': '/content/TheStarryNight.txt'}, page_content='opus,[5] The Starry Night is one of the most recognizable paintings in Western art.[6][7]'),\n",
              " Document(metadata={'source': '/content/TheStarryNight.txt'}, page_content='The asylum'),\n",
              " Document(metadata={'source': '/content/TheStarryNight.txt'}, page_content='The Monastery of Saint-Paul de Mausole'),\n",
              " Document(metadata={'source': '/content/TheStarryNight.txt'}, page_content='In the aftermath of the 23 December 1888 breakdown that resulted in the self-mutilation of his left ear,[8][9] Van Gogh voluntarily admitted himself to the Saint-Paul-de-Mausole lunatic asylum on 8 May 1889.[10][11] Housed in a former monastery, Saint-Paul-de-Mausole catered to the wealthy and was less than half full when Van Gogh arrived,[12] allowing him to occupy not only a second-story bedroom but also a ground-floor room for use as a painting studio.[13]'),\n",
              " Document(metadata={'source': '/content/TheStarryNight.txt'}, page_content=\"During the year Van Gogh stayed at the asylum in Saint-Rémy-de-Provence, the prolific output of paintings he had begun in Arles continued.[14] During this period, he produced some of the best-known works of his career, including the Irises from May 1889, now in the J. Paul Getty Museum, and the blue self-portrait from September 1889, in the Musée d'Orsay. The Starry Night was painted mid-June by around 18 June, the date he wrote to his brother Theo to say he had a new study of a starry\"),\n",
              " Document(metadata={'source': '/content/TheStarryNight.txt'}, page_content='study of a starry sky.[1][15][16][L 1]'),\n",
              " Document(metadata={'source': '/content/TheStarryNight.txt'}, page_content='The painting'),\n",
              " Document(metadata={'source': '/content/TheStarryNight.txt'}, page_content=\"Van Gogh's bedroom in the asylum\"),\n",
              " Document(metadata={'source': '/content/TheStarryNight.txt'}, page_content='Although The Starry Night was painted during the day in Van Gogh\\'s ground-floor studio, it would be inaccurate to state that the picture was painted from memory. The view has been identified as the one from his bedroom window, facing east,[1][2][17][18] a view which Van Gogh painted variations of no fewer than twenty-one times,[citation needed] including The Starry Night. \"Through the iron-barred window\", he wrote to his brother, Theo, around 23 May 1889, \"I can see an enclosed square of wheat'),\n",
              " Document(metadata={'source': '/content/TheStarryNight.txt'}, page_content='square of wheat ... above which, in the morning, I watch the sun rise in all its glory.\"[2][L 2]'),\n",
              " Document(metadata={'source': '/content/TheStarryNight.txt'}, page_content='Van Gogh depicted the view at different times of the day and under various weather conditions, such as the sunrise, moonrise, sunshine-filled days, overcast days, windy days, and one day with rain. While the hospital staff did not allow Van Gogh to paint in his bedroom, he was able there to make sketches in ink or charcoal on paper; eventually, he would base newer variations on previous versions. The pictorial element uniting all of these paintings is the diagonal line coming in from the right'),\n",
              " Document(metadata={'source': '/content/TheStarryNight.txt'}, page_content='in from the right depicting the low rolling hills of the Alpilles mountains. In fifteen of the twenty-one versions, cypress trees are visible beyond the far wall enclosing the wheat field. Van Gogh exaggerated their size in six of these paintings, most notably in F717 Wheat Field with Cypresses and The Starry Night, bringing the trees closer to the picture plane.[citation needed]'),\n",
              " Document(metadata={'source': '/content/TheStarryNight.txt'}, page_content='One of the first paintings of the view was F611 Mountainous Landscape Behind Saint-Rémy, now in Copenhagen. Van Gogh made several sketches for the painting, of which F1547 The Enclosed Wheatfield After a Storm is typical. It is unclear whether the painting was made in his studio or outside. In his 9 June letter describing it, he mentions he had been working outside for a few days.[19][20][L 3][15] Van Gogh described the second of the two landscapes he mentions he was working on, in a letter to'),\n",
              " Document(metadata={'source': '/content/TheStarryNight.txt'}, page_content='on, in a letter to his sister Wil on 16 June 1889.[19][L 4] This is F719 Green Wheat Field with Cypress, now in Prague, and the first painting at the asylum he painted en plein air.[19] F1548 Wheatfield, Saint-Rémy de Provence, now in New York, is a study for it. Two days later, Vincent wrote to Theo stating that he had painted \"a starry sky\".[21][L 1]'),\n",
              " Document(metadata={'source': '/content/TheStarryNight.txt'}, page_content='The Starry Night is the only nocturne in the series of views from his bedroom window. In early June, Vincent wrote to Theo, \"This morning I saw the countryside from my window a long time before sunrise with nothing but the morning star, which looked very big\".[L 5] Researchers have determined that Venus (sometimes referred to as the \"morning star\") was indeed visible at dawn in Provence in the spring of 1889, and was at that time nearly as bright as possible. So the brightest \"star\" in the'),\n",
              " Document(metadata={'source': '/content/TheStarryNight.txt'}, page_content='\"star\" in the painting, just to the viewer\\'s right of the cypress tree, is Venus.[15][17]'),\n",
              " Document(metadata={'source': '/content/TheStarryNight.txt'}, page_content=\"The Moon is stylized, as astronomical records indicate that it was waning gibbous at the time Van Gogh painted the picture,[15] and even if the phase of the Moon had been its waning crescent at the time, Van Gogh's Moon would not have been astronomically correct. (For other interpretations of the Moon, see below.) The one pictorial element that was not visible from Van Gogh's cell is the village,[22] which is based on a sketch (F1541v) made from a hillside above the village of Saint-Rémy.[3]\"),\n",
              " Document(metadata={'source': '/content/TheStarryNight.txt'}, page_content='of Saint-Rémy.[3] Pickvance thought F1541v was done later, and the steeple more Dutch than Provençal, a conflation of several Van Gogh had painted and drawn in his Nuenen period, and thus the first of his \"reminisces of the North\" he was to paint and draw early the following year.[1] Hulsker thought a landscape on the reverse (F1541r) was also a study for the painting.[23]'),\n",
              " Document(metadata={'source': '/content/TheStarryNight.txt'}, page_content='F1548 Wheatfield, Saint-Rémy de Provence, Morgan Library & Museum\\nF1548 Wheatfield, Saint-Rémy de Provence, Morgan Library & Museum\\n \\nF719 Green Wheat Field with Cypress, National Gallery Prague\\nF719 Green Wheat Field with Cypress, National Gallery Prague\\n \\nF1547 The Enclosed Wheatfield After a Storm, Van Gogh Museum\\nF1547 The Enclosed Wheatfield After a Storm, Van Gogh Museum\\n \\nF611 Mountainous Landscape Behind Saint-Rémy, Ny Carlsberg Glyptotek'),\n",
              " Document(metadata={'source': '/content/TheStarryNight.txt'}, page_content=\"F611 Mountainous Landscape Behind Saint-Rémy, Ny Carlsberg Glyptotek\\n \\nF1541v Bird's-Eye View of the Village, Van Gogh Museum\\nF1541v Bird's-Eye View of the Village, Van Gogh Museum\\n \\nF1541r Landscape with Cypresses, Van Gogh Museum\\nF1541r Landscape with Cypresses, Van Gogh Museum\\nInterpretations\"),\n",
              " Document(metadata={'source': '/content/TheStarryNight.txt'}, page_content='Despite the large number of letters Van Gogh wrote, he said very little about The Starry Night.[1] After reporting that he had painted a starry sky in June, Van Gogh next mentioned the painting in a letter to Theo on or about 20 September 1889, when he included it in a list of paintings he was sending to his brother in Paris, referring to it as a \"night study.\"[24] Of this list of paintings, he wrote, \"All in all the only things I consider a little good in it are the Wheatfield, the Mountain,'),\n",
              " Document(metadata={'source': '/content/TheStarryNight.txt'}, page_content='the Mountain, the Orchard, the Olive trees with the blue hills and the Portrait and the Entrance to the quarry, and the rest says nothing to me\"; \"the rest\" would include The Starry Night. When he decided to hold back three paintings from this batch to save money on postage, The Starry Night was one of the paintings he did not send.[25] Finally, in a letter to painter Émile Bernard from late November 1889, Van Gogh referred to the painting as a \"failure.\"[26]'),\n",
              " Document(metadata={'source': '/content/TheStarryNight.txt'}, page_content='Van Gogh argued with Bernard and especially Paul Gauguin as to whether one should paint from nature, as Van Gogh preferred,[27] or paint what Gauguin called \"abstractions\":[28] paintings conceived in the imagination, or de tête.[29] In the letter to Bernard, Van Gogh recounted his experiences when Gauguin lived with him from October 23, 1888, to December 25 of the same year.[30] \"When Gauguin was in Arles, I once or twice allowed myself to be led astray into abstraction, as you know. . . . But'),\n",
              " Document(metadata={'source': '/content/TheStarryNight.txt'}, page_content='you know. . . . But that was a delusion, dear friend, and one soon comes up against a brick wall. . . And yet, once again I allowed myself to be led astray into reaching for stars that are too big—another failure—and I have had my fill of that.\"[31] Van Gogh here is referring to the expressionistic swirls which dominate the upper center portion of The Starry Night.[32]'),\n",
              " Document(metadata={'source': '/content/TheStarryNight.txt'}, page_content='Theo referred to these pictorial elements in a letter to Vincent dated 22 October 1889: \"I sense what preoccupies you in the new canvases like the village in the moonlight [The Starry Night] or the mountains, but I feel that the search for style takes away the real sentiment of things.\"[26] Vincent responded in early November, \"Despite what you say in your previous letter, that the search for style often harms other qualities, the fact is that I feel greatly driven to seek style if you like,'),\n",
              " Document(metadata={'source': '/content/TheStarryNight.txt'}, page_content='style if you like, but I mean by that a more manly and more deliberate drawing. If that will make me more like Bernard or Gauguin, I can\\'t do anything about it. But am inclined to believe that in the long run, you\\'d get used to it.\" And later in the same letter, he wrote, \"I know very well that the studies drawn with long, sinuous lines from the last consignment weren\\'t what they ought to become, however, I dare urge you to believe that in landscapes one will continue to mass things by means of'),\n",
              " Document(metadata={'source': '/content/TheStarryNight.txt'}, page_content='things by means of a drawing style that seeks to express the entanglement of the masses.\"[33]'),\n",
              " Document(metadata={'source': '/content/TheStarryNight.txt'}, page_content='But although Van Gogh periodically defended the practices of Gauguin and Bernard, each time he inevitably repudiated them[34] and continued with his preferred method of painting from nature.[35] Like the impressionists he had met in Paris, especially Claude Monet, Van Gogh also favored working in series. He had painted his series of sunflowers in Arles, and he painted the series of cypresses and wheat fields at Saint-Rémy. The Starry Night belongs to this latter series,[36] as well as to a'),\n",
              " Document(metadata={'source': '/content/TheStarryNight.txt'}, page_content='as well as to a small series of nocturnes he initiated in Arles.'),\n",
              " Document(metadata={'source': '/content/TheStarryNight.txt'}, page_content=\"Van Gogh's Starry Night Over the Rhône, 1888, oil on canvas\"),\n",
              " Document(metadata={'source': '/content/TheStarryNight.txt'}, page_content=\"The nocturne series was limited by the difficulties posed by painting such scenes from nature, i.e., at night.[37] The first painting in the series was Café Terrace at Night, painted in Arles in early September 1888, followed by Starry Night (Over the Rhône) later that same month. Van Gogh's written statements concerning these paintings provide further insight into his intentions for painting night studies in general and The Starry Night in particular.\"),\n",
              " Document(metadata={'source': '/content/TheStarryNight.txt'}, page_content='Soon after he arrives in Arles in February 1888, Van Gogh wrote to Theo, \"I need a starry night with cypresses or—perhaps above a field of ripe wheat; there are some really beautiful nights here.\" That same week, he wrote to Bernard, \"A starry sky is something I should like to try to do, just as in the daytime I am going to try to paint a green meadow spangled with dandelions.\"[38] He compared the stars to dots on a map and mused that, as one takes a train to travel on Earth, \"we take death to'),\n",
              " Document(metadata={'source': '/content/TheStarryNight.txt'}, page_content='\"we take death to reach a star.\"[39] Although at this point in his life Van Gogh was disillusioned by religion,[40][41] he appears not to have lost his belief in an afterlife. He voiced this ambivalence in a letter to Theo after having painted Starry Night Over the Rhône, confessing to a \"tremendous need for, shall I say the word—for religion—so I go outside at night to paint the stars.\"[42]'),\n",
              " Document(metadata={'source': '/content/TheStarryNight.txt'}, page_content='He wrote about existing in another dimension after death and associated this dimension with the night sky. \"It would be so simple and would account so much for the terrible things in life, which now amaze and wound us so if life had yet another hemisphere, invisible it is true, but where one lands when one dies.\"[43] \"Hope is in the stars,\" he wrote, but he was quick to point out that \"this earth is a planet too, and consequently a star, or celestial orb.\"[38] And he stated flatly that The'),\n",
              " Document(metadata={'source': '/content/TheStarryNight.txt'}, page_content='flatly that The Starry Night was \"not a return to the romantic or to religious ideas.\"[44]'),\n",
              " Document(metadata={'source': '/content/TheStarryNight.txt'}, page_content='Noted art historian Meyer Schapiro highlights the expressionistic aspects of The Starry Night, saying it was created under the \"pressure of feeling\" and that it is a \"visionary [painting] inspired by a religious mood.\"[45] Schapiro theorizes that the \"hidden content\"[45] of the work refers to the New Testament Book of Revelation, revealing an \"apocalyptic theme of the woman in pain of birth, girded with the sun and moon and crowned with stars, whose newborn child is threatened by the'),\n",
              " Document(metadata={'source': '/content/TheStarryNight.txt'}, page_content='threatened by the dragon.\"[46] (Schapiro, in the same volume, also professes to see an image of a mother and child in the clouds in Landscape with Olive Trees,[47] painted at the same time and often regarded as a pendant to The Starry Night.)[48]'),\n",
              " Document(metadata={'source': '/content/TheStarryNight.txt'}, page_content='Art historian Sven Loevgren expands on Schapiro\\'s approach, again calling The Starry Night a \"visionary painting\" that \"was conceived in a state of great agitation.\"[49] He writes of the \"hallucinatory character of the painting and its violently expressive form,\" although he takes pains to note that the painting was not executed during one of Van Gogh\\'s incapacitating breakdowns.[50] Loevgren compares Van Gogh\\'s \"religiously inclined longing for the beyond\" to the poetry of Walt Whitman.[51] He'),\n",
              " Document(metadata={'source': '/content/TheStarryNight.txt'}, page_content='Whitman.[51] He calls The Starry Night \"an infinitely expressive picture which symbolizes the final absorption of the artist by the cosmos\" and which \"gives a never-to-be-forgotten sensation of standing on the threshold of eternity.\"[52] Loevgren praises Schapiro\\'s \"eloquent interpretation\" of the painting as an apocalyptic vision[53] and advances his symbolist theory concerning the eleven stars in one of Joseph\\'s dreams in the Old Testament Book of Genesis.[54] Loevgren asserts that the'),\n",
              " Document(metadata={'source': '/content/TheStarryNight.txt'}, page_content='asserts that the pictorial elements of The Starry Night \"are visualized in purely symbolic terms\" and notes that \"the cypress is the tree of death in the Mediterranean countries.\"[55]'),\n",
              " Document(metadata={'source': '/content/TheStarryNight.txt'}, page_content='The drawing Cypresses in Starry Night, a reed pen copy executed by Van Gogh after the painting in 1889. Originally held at Kunsthalle Bremen, today part of the disputed Baldin Collection.[56][57]'),\n",
              " Document(metadata={'source': '/content/TheStarryNight.txt'}, page_content='Art historian Lauren Soth also finds a symbolist subtext in The Starry Night, saying that the painting is a \"traditional religious subject in disguise\"[58] and a \"sublimated image of [Van Gogh\\'s] deepest religious feelings.\"[59] Citing Van Gogh\\'s avowed admiration for the paintings of Eugène Delacroix, and especially the earlier painter\\'s use of Prussian blue and citron yellow in paintings of Christ, Soth theorizes that Van Gogh used these colors to represent Christ in The Starry Night.[60] He'),\n",
              " Document(metadata={'source': '/content/TheStarryNight.txt'}, page_content='Night.[60] He criticizes Schapiro\\'s and Loevgren\\'s biblical interpretations, dependent as they are on a reading of the crescent moon as incorporating elements of the Sun. He says it is merely a crescent moon, which, he writes, also had symbolic meaning for Van Gogh, representing \"consolation.\"[61]'),\n",
              " Document(metadata={'source': '/content/TheStarryNight.txt'}, page_content='It is in light of such symbolist interpretations of The Starry Night that art historian Albert Boime presents his study of the painting. As noted above, Boime has proven that the painting depicts not only the topographical elements of Van Gogh\\'s view from his asylum window but also the celestial elements, identifying not only Venus but also the constellation Aries.[17] He suggests that Van Gogh originally intended to paint a gibbous moon but \"reverted to a more traditional image\" of the'),\n",
              " Document(metadata={'source': '/content/TheStarryNight.txt'}, page_content='image\" of the crescent moon, and theorizes that the bright aureole around the resulting crescent is a remnant of the original gibbous version.[22] He recounts Van Gogh\\'s interest in the writings of Victor Hugo and Jules Verne as a possible inspiration for his belief in an afterlife on stars or planets.[62] he provides a detailed discussion of the well-publicized advances in astronomy that took place during Van Gogh\\'s lifetime.'),\n",
              " Document(metadata={'source': '/content/TheStarryNight.txt'}, page_content=\"Boime asserts that while Van Gogh never mentioned astronomer Camille Flammarion in his letters,[63] he believes that Van Gogh must have been aware of Flammarion's popular illustrated publications, which included drawings of spiral nebulae (as galaxies were then called) as seen and photographed through telescopes. Boime interprets the swirling figure in the central portion of the sky in The Starry Night to represent either a spiral galaxy or a comet, photographs of which had also been published\"),\n",
              " Document(metadata={'source': '/content/TheStarryNight.txt'}, page_content=\"also been published in popular media.[22] He asserts that the only non-realistic elements of the painting are the village and the swirls in the sky. These swirls represent Van Gogh's understanding of the cosmos as a living, dynamic place.[64]\"),\n",
              " Document(metadata={'source': '/content/TheStarryNight.txt'}, page_content=\"Harvard astronomer Charles A. Whitney conducted his astronomical study of The Starry Night contemporaneously with but independent of Boime (who spent almost his entire career at U.C.L.A.).[65] While Whitney does not share Boime's certainty about the constellation Aries,[66] he concurs with Boime on the visibility of Venus in Provence at the time the painting was executed.[15] He also sees the depiction of a spiral galaxy in the sky, although he gives credit for the original to Anglo-Irish\"),\n",
              " Document(metadata={'source': '/content/TheStarryNight.txt'}, page_content='to Anglo-Irish astronomer William Parsons, 3rd Earl of Rosse, whose work Flammarion reproduced.[67]'),\n",
              " Document(metadata={'source': '/content/TheStarryNight.txt'}, page_content=\"Sketch of the Whirlpool Galaxy by Lord Rosse in 1845, 44 years before Van Gogh's painting\"),\n",
              " Document(metadata={'source': '/content/TheStarryNight.txt'}, page_content='Whitney also theorizes that the swirls in the sky could represent wind, evoking the mistral that had such a profound effect on Van Gogh during the twenty-seven months he spent in Provence.[18] (It was the mistral which triggered his first breakdown after entering the asylum, in July 1889, less than a month after painting The Starry Night.)[68] Boime theorizes that the lighter shades of blue just above the horizon show the first light of morning.[22]'),\n",
              " Document(metadata={'source': '/content/TheStarryNight.txt'}, page_content=\"The village has been variously identified as either a recollection of Van Gogh's Dutch homeland,[1][69] or based on a sketch he made of the town of Saint-Rémy.[3][22] In either case, it is an imaginary component of the picture, not visible from the window of the asylum bedroom.\"),\n",
              " Document(metadata={'source': '/content/TheStarryNight.txt'}, page_content='Cypress trees have long been associated with death in European culture, though the question of whether Van Gogh intended for them to have such a symbolic meaning in The Starry Night is the subject of an open debate. In an April 1888 letter to Bernard, Van Gogh referred to \"funereal cypresses,\"[70] though this is possibly similar to saying \"stately oaks\" or \"weeping willows.\" One week after painting The Starry Night, he wrote to his brother Theo, \"The cypresses are always occupying my thoughts.'),\n",
              " Document(metadata={'source': '/content/TheStarryNight.txt'}, page_content='my thoughts. I should like to make something of them like the canvases of the sunflowers because it astonishes me that they have not yet been done as I see them.\"[71] In the same letter he mentioned \"two studies of cypresses of that difficult shade of bottle green.\"[72] These statements suggest that Van Gogh was interested in the trees more for their formal qualities than for their symbolic connotation.'),\n",
              " Document(metadata={'source': '/content/TheStarryNight.txt'}, page_content='Schapiro refers to the cypress in the painting as a \"vague symbol of a human striving.\"[45] Boime calls it the \"symbolic counterpart of Van Gogh\\'s own striving for the Infinite through non-orthodox channels.\"[63] Art historian Vojtech Jirat-Wasiutynski says that for Van Gogh the cypresses \"function as rustic and natural obelisks\" providing a \"link between the heavens and the earth.\"[73] (Some commentators see one tree, others see two or more.) Loevgren reminds the reader that \"the cypress is'),\n",
              " Document(metadata={'source': '/content/TheStarryNight.txt'}, page_content='\"the cypress is the tree of death in the Mediterranean countries.\"[55]'),\n",
              " Document(metadata={'source': '/content/TheStarryNight.txt'}, page_content='Art historian Ronald Pickvance says that with \"its arbitrary collage of separate motifs,\" The Starry Night \"is overtly stamped as an \\'abstraction\\'\".[74] Pickvance claims that cypress trees were not visible facing east from Van Gogh\\'s room, and he includes them with the village and the swirls in the sky as products of Van Gogh\\'s imagination.[1] Boime asserts that the cypresses were visible in the east,[17] as does Jirat-Wasiutyński.[75] Van Gogh biographers Steven Naifeh and Gregory White Smith'),\n",
              " Document(metadata={'source': '/content/TheStarryNight.txt'}, page_content='Gregory White Smith concur, saying that Van Gogh \"telescoped\" the view in certain of the pictures of the view from his window,[21] and it stands to reason that Van Gogh would do this in a painting featuring the Morning Star. Such a compression of depth serves to enhance the brightness of the planet.'),\n",
              " Document(metadata={'source': '/content/TheStarryNight.txt'}, page_content='Soth uses Van Gogh\\'s statement to his brother, that The Starry Night is \"an exaggeration from the point of view of arrangement\" to further his argument that the painting is \"an amalgam of images.\"[76] However, it is by no means certain that Van Gogh was using \"arrangement\" as a synonym for \"composition.\" Van Gogh was speaking of three paintings, one of which was The Starry Night, when he made this comment: \"The olive trees with white cloud and background of mountains, as well as the Moonrise'),\n",
              " Document(metadata={'source': '/content/TheStarryNight.txt'}, page_content='as the Moonrise and the Night effect,\" as he called it, \"these are exaggerations from the point of view of the arrangement, their lines are contorted like those of the ancient woodcuts.\" The first two pictures are universally acknowledged to be realistic, non-composite views of their subjects. What the three pictures do have in common is exaggerated color and brushwork of the type that Theo referred to when he criticized Van Gogh for his \"search for style [that] takes away the real sentiment of'),\n",
              " Document(metadata={'source': '/content/TheStarryNight.txt'}, page_content='real sentiment of things\" in The Starry Night.'),\n",
              " Document(metadata={'source': '/content/TheStarryNight.txt'}, page_content='On two other occasions around this time, Van Gogh used the word \"arrangement\" to refer to color, similar to the way James Abbott McNeill Whistler used the term. In a letter to Gauguin in January 1889, he wrote, \"As an arrangement of colours: the reds moving through to pure oranges, intensifying even more in the flesh tones up to the chromes, passing into the pinks and marrying with the olive and Veronese greens. As an impressionist arrangement of colours, I\\'ve never devised anything'),\n",
              " Document(metadata={'source': '/content/TheStarryNight.txt'}, page_content='devised anything better.\"[77] (The painting he is referring to is La Berceuse, which is a realistic portrait of Augustine Roulin with an imaginative floral background.) And to Bernard in late November 1889: \"But this is enough for you to understand that I would long to see things of yours again, like the painting of yours that Gauguin has, those Breton women walking in a meadow, the arrangement of which is so beautiful, the colour so naively distinguished. Ah, you\\'re exchanging that for'),\n",
              " Document(metadata={'source': '/content/TheStarryNight.txt'}, page_content='exchanging that for something—must one say the word—something artificial—something affected.\"[78][79]'),\n",
              " Document(metadata={'source': '/content/TheStarryNight.txt'}, page_content='While stopping short of calling the painting a hallucinatory vision, Naifeh and Smith discuss The Starry Night in the context of Van Gogh\\'s mental illness, which they identify as temporal lobe epilepsy, or latent epilepsy.[80] \"Not the kind,\" they write, \"known since antiquity, that caused the limbs to jerk and the body to collapse (\\'the falling sickness\\', as it was sometimes called), but a mental epilepsy—a seizing up of the mind: a collapse of thought, perception, reason, and emotion that'),\n",
              " Document(metadata={'source': '/content/TheStarryNight.txt'}, page_content='and emotion that manifested itself entirely in the brain and often prompted bizarre, dramatic behavior.\"[81] Symptoms of the seizures \"resembled fireworks of electrical impulses in the brain.\"[32]'),\n",
              " Document(metadata={'source': '/content/TheStarryNight.txt'}, page_content='Van Gogh experienced his second breakdown in seven months in July 1889.[68] Naifeh and Smith theorize that the seeds of this breakdown were present when Van Gogh painted The Starry Night, that in giving himself over to his imagination \"his defenses had been breached.\"[82] On that day in mid-June, in a \"state of heightened reality,\" with all the other elements of the painting in place,[83] Van Gogh threw himself into the painting of the stars, producing, they write, \"a night sky unlike any other'),\n",
              " Document(metadata={'source': '/content/TheStarryNight.txt'}, page_content='unlike any other the world had ever seen with ordinary eyes.\"[32] The painting echoes his thoughts and the state of mind he was in. Despite the darkness there is always hope at the end of the tunnel.'),\n",
              " Document(metadata={'source': '/content/TheStarryNight.txt'}, page_content='Provenance'),\n",
              " Document(metadata={'source': '/content/TheStarryNight.txt'}, page_content=\"After having initially held it back, Van Gogh sent The Starry Night to Theo in Paris on 28 September 1889, along with nine or ten other paintings.[25][74] Theo died less than six months after Vincent, in January 1891. Theo's widow Jo became the caretaker of Van Gogh's legacy. In Paris in 1900 she sold the painting to a poet Julien Leclercq. In 1901 Leclercq sold it to Gauguin's old friend Émile Schuffenecker. Jo bought the painting back from Schuffenecker and in 1906 sold it to the Oldenzeel\"),\n",
              " Document(metadata={'source': '/content/TheStarryNight.txt'}, page_content='it to the Oldenzeel Gallery in Rotterdam. From 1906 to 1938 it was owned by Georgette P. van Stolk, of Rotterdam, who sold it to Paul Rosenberg, of Paris and New York. It was through Rosenberg that the Museum of Modern Art acquired the painting in 1941.[84]'),\n",
              " Document(metadata={'source': '/content/TheStarryNight.txt'}, page_content='Painting materials\\nThe painting was investigated by scientists at the Rochester Institute of Technology and the Museum of Modern Art in New York.[85] The pigment analysis has shown that the sky was painted with ultramarine and cobalt blue, and for the stars and the moon, Van Gogh employed the rare pigment indian yellow together with zinc yellow.[86]')]"
            ]
          },
          "metadata": {},
          "execution_count": 10
        }
      ]
    },
    {
      "cell_type": "code",
      "source": [
        "len(text_chunks)"
      ],
      "metadata": {
        "colab": {
          "base_uri": "https://localhost:8080/"
        },
        "id": "RFDBuGRExiz_",
        "outputId": "22b6db92-fb6b-4488-f59c-32d63f1144b0"
      },
      "execution_count": 11,
      "outputs": [
        {
          "output_type": "execute_result",
          "data": {
            "text/plain": [
              "73"
            ]
          },
          "metadata": {},
          "execution_count": 11
        }
      ]
    },
    {
      "cell_type": "code",
      "source": [
        "from langchain_community.embeddings import HuggingFaceEmbeddings\n",
        "\n",
        "persist_directory = 'db'\n",
        "\n",
        "model_name = \"sentence-transformers/clip-ViT-B-32\"\n",
        "encode_kwargs = {'normalize_embeddings': False}\n",
        "hf = HuggingFaceEmbeddings(\n",
        "    model_name=model_name,\n",
        "    encode_kwargs=encode_kwargs\n",
        ")"
      ],
      "metadata": {
        "id": "4YcYSZfaxmD5"
      },
      "execution_count": 28,
      "outputs": []
    },
    {
      "cell_type": "code",
      "source": [
        "results = hf.embed_query(\"how are doin\")"
      ],
      "metadata": {
        "id": "gOussvj0xmAU"
      },
      "execution_count": 29,
      "outputs": []
    },
    {
      "cell_type": "code",
      "source": [
        "results"
      ],
      "metadata": {
        "colab": {
          "base_uri": "https://localhost:8080/"
        },
        "id": "033iE3bdW-eF",
        "outputId": "1f34ccf8-9b66-453e-c1f4-9a102bd4a716"
      },
      "execution_count": 30,
      "outputs": [
        {
          "output_type": "execute_result",
          "data": {
            "text/plain": [
              "[0.3409597873687744,\n",
              " 0.21483787894248962,\n",
              " -0.030722960829734802,\n",
              " -0.0619724839925766,\n",
              " 0.10276500135660172,\n",
              " -0.21069060266017914,\n",
              " 0.07750460505485535,\n",
              " -1.3690980672836304,\n",
              " -0.09114101529121399,\n",
              " 0.21402761340141296,\n",
              " -0.2427237629890442,\n",
              " -0.0930897518992424,\n",
              " -0.35340815782546997,\n",
              " -0.19867682456970215,\n",
              " 0.1030607745051384,\n",
              " -0.18310348689556122,\n",
              " 0.2036297470331192,\n",
              " 0.1332073211669922,\n",
              " -0.020880650728940964,\n",
              " -0.034711409360170364,\n",
              " 0.2759154438972473,\n",
              " -0.2729759216308594,\n",
              " 0.03853745758533478,\n",
              " 0.07528211921453476,\n",
              " -0.2422196865081787,\n",
              " -0.04648345708847046,\n",
              " -0.03610045090317726,\n",
              " -0.012685954570770264,\n",
              " -0.30071645975112915,\n",
              " -0.1949891895055771,\n",
              " -0.011187080293893814,\n",
              " 0.10705528408288956,\n",
              " 0.08053746074438095,\n",
              " -0.21719714999198914,\n",
              " 0.17192211747169495,\n",
              " -0.18304991722106934,\n",
              " -0.02652173861861229,\n",
              " 0.07203216850757599,\n",
              " 0.15846115350723267,\n",
              " 0.02890297770500183,\n",
              " 0.12497016787528992,\n",
              " -0.0029912516474723816,\n",
              " -0.08141253888607025,\n",
              " 0.10500787198543549,\n",
              " 0.07657688856124878,\n",
              " 0.4574066996574402,\n",
              " -0.02315644919872284,\n",
              " -0.20301303267478943,\n",
              " 0.24373893439769745,\n",
              " -0.1644904464483261,\n",
              " 0.2879793047904968,\n",
              " 0.012785457074642181,\n",
              " 0.11465652287006378,\n",
              " -0.2748950123786926,\n",
              " 0.16107547283172607,\n",
              " -0.22986482083797455,\n",
              " -0.16012704372406006,\n",
              " 0.09952831268310547,\n",
              " -0.1600114107131958,\n",
              " -0.023282065987586975,\n",
              " 0.36250588297843933,\n",
              " 0.11765793710947037,\n",
              " 0.20458078384399414,\n",
              " 0.15105774998664856,\n",
              " 0.0185699462890625,\n",
              " -0.1659042090177536,\n",
              " -0.004873320460319519,\n",
              " 0.040269941091537476,\n",
              " -0.03649558499455452,\n",
              " 0.2700308561325073,\n",
              " -0.0010928958654403687,\n",
              " 0.015012525022029877,\n",
              " 0.019817400723695755,\n",
              " -0.15872670710086823,\n",
              " 0.08148108422756195,\n",
              " -0.33015406131744385,\n",
              " 0.1204904243350029,\n",
              " 0.02361351251602173,\n",
              " -0.21686483919620514,\n",
              " -0.48224788904190063,\n",
              " -0.13171859085559845,\n",
              " -0.34223121404647827,\n",
              " -0.11341191083192825,\n",
              " 0.07072184979915619,\n",
              " 0.022992581129074097,\n",
              " 0.059466198086738586,\n",
              " 0.2004568874835968,\n",
              " -0.23541520535945892,\n",
              " -0.11231984198093414,\n",
              " 0.37287551164627075,\n",
              " 0.05826503038406372,\n",
              " -0.0420193187892437,\n",
              " -1.8900797367095947,\n",
              " -0.03017266094684601,\n",
              " -0.08499205857515335,\n",
              " 0.09455996751785278,\n",
              " -0.22302456200122833,\n",
              " 0.027426525950431824,\n",
              " 0.20059938728809357,\n",
              " -0.0804332047700882,\n",
              " 0.16162541508674622,\n",
              " 0.09294237196445465,\n",
              " 0.10375681519508362,\n",
              " 0.024092435836791992,\n",
              " -0.32299381494522095,\n",
              " 0.19318009912967682,\n",
              " 0.5152438282966614,\n",
              " 0.0794868916273117,\n",
              " -0.20864403247833252,\n",
              " 0.17498692870140076,\n",
              " -0.0547294020652771,\n",
              " 0.481518417596817,\n",
              " -0.02134924754500389,\n",
              " 0.12504443526268005,\n",
              " -0.08387767523527145,\n",
              " -0.26584380865097046,\n",
              " 0.09670546650886536,\n",
              " 0.17124444246292114,\n",
              " 0.07794283330440521,\n",
              " 0.17530111968517303,\n",
              " 0.3026597499847412,\n",
              " -0.04497674107551575,\n",
              " 0.23359116911888123,\n",
              " 0.17711804807186127,\n",
              " 0.09889453649520874,\n",
              " 0.11871084570884705,\n",
              " -0.11600063741207123,\n",
              " -0.1237487643957138,\n",
              " 0.0971476137638092,\n",
              " -0.11126498878002167,\n",
              " -0.060701414942741394,\n",
              " 0.47218552231788635,\n",
              " 0.3839455842971802,\n",
              " 8.507743835449219,\n",
              " -0.06026708707213402,\n",
              " 0.28801825642585754,\n",
              " 0.23818576335906982,\n",
              " -0.24722370505332947,\n",
              " -0.3198700249195099,\n",
              " -0.20817050337791443,\n",
              " 0.06957531720399857,\n",
              " -0.010404229164123535,\n",
              " -0.06145232543349266,\n",
              " 0.040820468217134476,\n",
              " -0.14796245098114014,\n",
              " 0.022192928940057755,\n",
              " -0.0005276203155517578,\n",
              " 0.04473111033439636,\n",
              " 0.010895028710365295,\n",
              " 0.24981164932250977,\n",
              " 0.2883980870246887,\n",
              " -0.29941627383232117,\n",
              " -0.011794954538345337,\n",
              " 0.02213999256491661,\n",
              " 0.07289239764213562,\n",
              " -0.0777709037065506,\n",
              " 0.26130542159080505,\n",
              " -0.05256401747465134,\n",
              " -0.4711802899837494,\n",
              " -0.050313204526901245,\n",
              " -0.24676497280597687,\n",
              " 0.0763944461941719,\n",
              " 0.017985861748456955,\n",
              " -0.26358142495155334,\n",
              " -0.15635834634304047,\n",
              " 0.27215683460235596,\n",
              " 0.14359822869300842,\n",
              " 0.0436602383852005,\n",
              " 0.2113189548254013,\n",
              " -0.18111437559127808,\n",
              " -0.15303374826908112,\n",
              " 0.24883000552654266,\n",
              " 0.03726813197135925,\n",
              " -0.27369117736816406,\n",
              " -0.18339881300926208,\n",
              " 0.10765956342220306,\n",
              " -0.3156554698944092,\n",
              " -0.062493834644556046,\n",
              " 0.053586795926094055,\n",
              " -0.021678291261196136,\n",
              " 0.2667880952358246,\n",
              " 0.15835750102996826,\n",
              " 0.013522401452064514,\n",
              " -0.03621947765350342,\n",
              " 0.006033703684806824,\n",
              " 0.10080081224441528,\n",
              " 0.1457493007183075,\n",
              " -0.07597965002059937,\n",
              " -0.02504490315914154,\n",
              " 0.02923233062028885,\n",
              " 0.07243597507476807,\n",
              " -0.1883321851491928,\n",
              " 0.16500112414360046,\n",
              " 0.1861608326435089,\n",
              " 0.21110212802886963,\n",
              " 0.10667576640844345,\n",
              " 0.08266673237085342,\n",
              " 0.18317370116710663,\n",
              " -0.45510047674179077,\n",
              " 0.2917080521583557,\n",
              " 0.1348252296447754,\n",
              " -0.11086661368608475,\n",
              " 0.0029829442501068115,\n",
              " 0.2602708041667938,\n",
              " -0.0832258090376854,\n",
              " -0.2548123002052307,\n",
              " 0.08743523061275482,\n",
              " 0.17425388097763062,\n",
              " -0.1703660637140274,\n",
              " -0.05942106246948242,\n",
              " 0.48218128085136414,\n",
              " -0.18276110291481018,\n",
              " -0.2668745219707489,\n",
              " 0.1337580680847168,\n",
              " 0.010539636015892029,\n",
              " -0.0028080418705940247,\n",
              " 0.0194382444024086,\n",
              " -0.0863330215215683,\n",
              " 0.1024743914604187,\n",
              " -0.2268216609954834,\n",
              " -0.17260882258415222,\n",
              " 0.31852102279663086,\n",
              " -0.1554948091506958,\n",
              " 0.08993436396121979,\n",
              " -0.08028249442577362,\n",
              " -0.05705855041742325,\n",
              " -0.181528702378273,\n",
              " 0.1856648027896881,\n",
              " -0.10842400789260864,\n",
              " 0.0006763041019439697,\n",
              " -0.22911494970321655,\n",
              " -0.0022355765104293823,\n",
              " 0.004183053970336914,\n",
              " -0.14330358803272247,\n",
              " -0.07206454873085022,\n",
              " -0.19004011154174805,\n",
              " 0.07047019153833389,\n",
              " -0.3019273281097412,\n",
              " 0.24128352105617523,\n",
              " -0.03774067759513855,\n",
              " 0.27527785301208496,\n",
              " 0.23978552222251892,\n",
              " 0.002795994281768799,\n",
              " -0.10864654928445816,\n",
              " -0.02902444452047348,\n",
              " 0.17410160601139069,\n",
              " 0.19920989871025085,\n",
              " -0.3142811059951782,\n",
              " 0.20293524861335754,\n",
              " -0.036601170897483826,\n",
              " -0.028945714235305786,\n",
              " 0.1917075514793396,\n",
              " -0.29905378818511963,\n",
              " -0.2019743174314499,\n",
              " 0.036087602376937866,\n",
              " 0.04057140648365021,\n",
              " 0.01684926636517048,\n",
              " 0.15243272483348846,\n",
              " -0.11530684679746628,\n",
              " -0.24994336068630219,\n",
              " -0.06743402779102325,\n",
              " 0.08830684423446655,\n",
              " 0.14281915128231049,\n",
              " -0.21502096951007843,\n",
              " -0.31388500332832336,\n",
              " 0.028321102261543274,\n",
              " -0.08363014459609985,\n",
              " -0.16783465445041656,\n",
              " 0.11292161047458649,\n",
              " -0.07101334631443024,\n",
              " -0.3260863423347473,\n",
              " -0.24450629949569702,\n",
              " 0.03450292348861694,\n",
              " -0.022352349013090134,\n",
              " 0.060844600200653076,\n",
              " 0.004032239317893982,\n",
              " 0.02611038088798523,\n",
              " 0.08733301609754562,\n",
              " 0.2548816204071045,\n",
              " 0.4901387691497803,\n",
              " -0.022472500801086426,\n",
              " -0.006923124194145203,\n",
              " 0.3263738751411438,\n",
              " -0.17868247628211975,\n",
              " -0.05636744946241379,\n",
              " -0.061313092708587646,\n",
              " 0.2624679505825043,\n",
              " -0.06463934481143951,\n",
              " 0.0945277214050293,\n",
              " -0.08587825298309326,\n",
              " 0.3659926652908325,\n",
              " 0.013765186071395874,\n",
              " 0.18266308307647705,\n",
              " 0.3247630000114441,\n",
              " 0.1236361712217331,\n",
              " 0.002408541738986969,\n",
              " -0.018037043511867523,\n",
              " -0.13819080591201782,\n",
              " 0.021123483777046204,\n",
              " 0.014860883355140686,\n",
              " -0.05801912397146225,\n",
              " -0.06258995085954666,\n",
              " 0.09740668535232544,\n",
              " 0.19035604596138,\n",
              " -0.0701860561966896,\n",
              " 0.22675198316574097,\n",
              " -0.07571198791265488,\n",
              " 0.07854010164737701,\n",
              " 0.06222131848335266,\n",
              " 0.04911433160305023,\n",
              " -0.08245916664600372,\n",
              " -0.17211687564849854,\n",
              " 8.500997543334961,\n",
              " -0.041457295417785645,\n",
              " 0.11362608522176743,\n",
              " -0.05954671651124954,\n",
              " -0.21202687919139862,\n",
              " 0.03908199071884155,\n",
              " 0.10308840870857239,\n",
              " -0.05375543236732483,\n",
              " 0.17561250925064087,\n",
              " 0.3130739629268646,\n",
              " -0.2691088616847992,\n",
              " 0.24802161753177643,\n",
              " 0.2142321765422821,\n",
              " -0.1381816416978836,\n",
              " -0.08758146315813065,\n",
              " -0.1707785427570343,\n",
              " -0.06180736422538757,\n",
              " -2.89680814743042,\n",
              " 0.06167857348918915,\n",
              " -0.11808101832866669,\n",
              " -0.130819171667099,\n",
              " -0.23278513550758362,\n",
              " 0.26694339513778687,\n",
              " 0.03155547380447388,\n",
              " 0.13816416263580322,\n",
              " 0.11366613954305649,\n",
              " -0.03671891242265701,\n",
              " -0.24516797065734863,\n",
              " 0.001183975487947464,\n",
              " 0.05224646255373955,\n",
              " -0.23600579798221588,\n",
              " -0.24786385893821716,\n",
              " 0.0019519180059432983,\n",
              " 0.012266948819160461,\n",
              " 0.10970598459243774,\n",
              " 0.07384318858385086,\n",
              " -0.16018512845039368,\n",
              " -0.19007590413093567,\n",
              " 0.23137672245502472,\n",
              " 0.1358744353055954,\n",
              " -0.01939307153224945,\n",
              " -0.03069908916950226,\n",
              " 0.13741138577461243,\n",
              " 0.7553507089614868,\n",
              " 0.1911552995443344,\n",
              " 0.13728345930576324,\n",
              " 0.24193114042282104,\n",
              " -0.20737850666046143,\n",
              " -0.08518484979867935,\n",
              " 0.04815158247947693,\n",
              " 0.0974450558423996,\n",
              " 0.26781854033470154,\n",
              " 0.21839231252670288,\n",
              " -0.10735015571117401,\n",
              " 0.01978166401386261,\n",
              " -0.3202148675918579,\n",
              " -0.0003197416663169861,\n",
              " 0.2118760049343109,\n",
              " 0.048128098249435425,\n",
              " 0.13730216026306152,\n",
              " -0.04777200520038605,\n",
              " -0.15740296244621277,\n",
              " -0.16659298539161682,\n",
              " 0.09400006383657455,\n",
              " -0.01975400745868683,\n",
              " 0.017786581069231033,\n",
              " -0.3568592667579651,\n",
              " -0.08110561221837997,\n",
              " 0.19317016005516052,\n",
              " -0.26033222675323486,\n",
              " 0.12284546345472336,\n",
              " 0.04724900797009468,\n",
              " 0.1321316957473755,\n",
              " 0.14462581276893616,\n",
              " -0.05270944535732269,\n",
              " -0.0051553621888160706,\n",
              " -0.04429483413696289,\n",
              " -0.4096103608608246,\n",
              " -0.3584689199924469,\n",
              " -0.24584516882896423,\n",
              " 0.075544074177742,\n",
              " 0.11569444090127945,\n",
              " 0.24838069081306458,\n",
              " 0.27021488547325134,\n",
              " -0.20708616077899933,\n",
              " 0.03429429233074188,\n",
              " 0.006767608225345612,\n",
              " -0.060918524861335754,\n",
              " 0.04384934902191162,\n",
              " 0.3405073881149292,\n",
              " 0.19179005920886993,\n",
              " 0.060070812702178955,\n",
              " 0.007393017411231995,\n",
              " -0.08318445086479187,\n",
              " -0.04336163401603699,\n",
              " -0.12385695427656174,\n",
              " 0.14244908094406128,\n",
              " 0.12607049942016602,\n",
              " 0.01855297014117241,\n",
              " -0.16374555230140686,\n",
              " 0.1351296454668045,\n",
              " -0.03893885016441345,\n",
              " 0.2961944043636322,\n",
              " 0.08656267821788788,\n",
              " -0.1373634785413742,\n",
              " -0.013494327664375305,\n",
              " 0.010814078152179718,\n",
              " -0.19144321978092194,\n",
              " -0.30486369132995605,\n",
              " -0.20413097739219666,\n",
              " 0.015714555978775024,\n",
              " -0.17122671008110046,\n",
              " -0.12375910580158234,\n",
              " 0.14589086174964905,\n",
              " 0.07898752391338348,\n",
              " 0.06333266198635101,\n",
              " -0.03757677227258682,\n",
              " 0.1782873272895813,\n",
              " -0.23061606287956238,\n",
              " 0.12605656683444977,\n",
              " -0.10201741009950638,\n",
              " -0.06475399434566498,\n",
              " -0.007016047835350037,\n",
              " -0.07811595499515533,\n",
              " 0.107209213078022,\n",
              " -0.28025227785110474,\n",
              " 0.07184355705976486,\n",
              " 0.031348347663879395,\n",
              " -0.25720423460006714,\n",
              " 0.2520289123058319,\n",
              " -0.014574144035577774,\n",
              " -0.33816176652908325,\n",
              " 0.13598093390464783,\n",
              " 0.03779148310422897,\n",
              " -0.07815436273813248,\n",
              " 0.03717669099569321,\n",
              " 0.09376977384090424,\n",
              " -0.07137628644704819,\n",
              " 0.08685725927352905,\n",
              " 0.48695260286331177,\n",
              " -0.24492087960243225,\n",
              " 0.09389330446720123,\n",
              " 0.29466599225997925,\n",
              " 0.2288011610507965,\n",
              " -0.1329556703567505,\n",
              " 0.20406466722488403,\n",
              " -0.026044130325317383,\n",
              " -0.17096400260925293,\n",
              " -0.10089192539453506,\n",
              " -0.05934260040521622,\n",
              " 0.15372204780578613,\n",
              " 0.2232041358947754,\n",
              " -0.07750295102596283,\n",
              " -0.11211751401424408,\n",
              " -0.24212095141410828,\n",
              " -0.08088171482086182,\n",
              " -0.07190828025341034,\n",
              " 0.061084818094968796,\n",
              " 0.03201914206147194,\n",
              " 0.018830113112926483,\n",
              " -0.07256385684013367,\n",
              " -0.002078600227832794,\n",
              " -0.11717142164707184,\n",
              " -0.0239301398396492,\n",
              " -0.18478290736675262,\n",
              " 0.07769027352333069,\n",
              " 0.18100807070732117,\n",
              " 0.11373226344585419,\n",
              " -0.10185296833515167,\n",
              " -0.45433223247528076,\n",
              " -0.0775427520275116,\n",
              " 0.22950012981891632,\n",
              " -0.12377947568893433,\n",
              " -0.10211740434169769,\n",
              " -0.04650463908910751,\n",
              " 0.012028835713863373,\n",
              " -0.06259804964065552,\n",
              " -0.3352220058441162,\n",
              " -0.3300105035305023,\n",
              " 0.2377256453037262,\n",
              " -0.1981535106897354,\n",
              " 0.6529833674430847,\n",
              " -0.21474070847034454,\n",
              " -0.0063109323382377625,\n",
              " -0.37769433856010437,\n",
              " -0.09720722585916519,\n",
              " 0.09929477423429489,\n",
              " 0.024075865745544434,\n",
              " -0.10433417558670044,\n",
              " -0.08910106122493744,\n",
              " -0.05941450595855713,\n",
              " 0.16617655754089355,\n",
              " -0.3951783776283264,\n",
              " -0.05626915395259857,\n",
              " 0.2592449188232422,\n",
              " 0.01592092216014862,\n",
              " -0.134036123752594,\n",
              " -0.29632478952407837,\n",
              " -0.026394367218017578,\n",
              " 0.15779419243335724]"
            ]
          },
          "metadata": {},
          "execution_count": 30
        }
      ]
    },
    {
      "cell_type": "code",
      "source": [
        "len(results)"
      ],
      "metadata": {
        "colab": {
          "base_uri": "https://localhost:8080/"
        },
        "id": "HAnWziqSxl9g",
        "outputId": "b7dde344-df08-49cc-daba-031edcf1a880"
      },
      "execution_count": 25,
      "outputs": [
        {
          "output_type": "execute_result",
          "data": {
            "text/plain": [
              "512"
            ]
          },
          "metadata": {},
          "execution_count": 25
        }
      ]
    },
    {
      "cell_type": "code",
      "source": [
        "with open('/content/PINECONEAPI-KEY.txt', 'r') as file:\n",
        "    pinecone_key = file.read()"
      ],
      "metadata": {
        "id": "KXYVhxcoT6Pg"
      },
      "execution_count": 22,
      "outputs": []
    },
    {
      "cell_type": "code",
      "source": [
        "!pip install pinecone\n",
        "!apt-get install pinecone"
      ],
      "metadata": {
        "colab": {
          "base_uri": "https://localhost:8080/"
        },
        "id": "8qGBldGPYIzA",
        "outputId": "7fc67672-dc2c-4e0e-a79f-dcdb2d26a8a1"
      },
      "execution_count": 34,
      "outputs": [
        {
          "output_type": "stream",
          "name": "stdout",
          "text": [
            "Requirement already satisfied: pinecone in /usr/local/lib/python3.10/dist-packages (5.4.0)\n",
            "Requirement already satisfied: certifi>=2019.11.17 in /usr/local/lib/python3.10/dist-packages (from pinecone) (2024.8.30)\n",
            "Requirement already satisfied: pinecone-plugin-inference<3.0.0,>=2.0.0 in /usr/local/lib/python3.10/dist-packages (from pinecone) (2.0.1)\n",
            "Requirement already satisfied: pinecone-plugin-interface<0.0.8,>=0.0.7 in /usr/local/lib/python3.10/dist-packages (from pinecone) (0.0.7)\n",
            "Requirement already satisfied: python-dateutil>=2.5.3 in /usr/local/lib/python3.10/dist-packages (from pinecone) (2.8.2)\n",
            "Requirement already satisfied: tqdm>=4.64.1 in /usr/local/lib/python3.10/dist-packages (from pinecone) (4.66.6)\n",
            "Requirement already satisfied: typing-extensions>=3.7.4 in /usr/local/lib/python3.10/dist-packages (from pinecone) (4.12.2)\n",
            "Requirement already satisfied: urllib3>=1.26.0 in /usr/local/lib/python3.10/dist-packages (from pinecone) (2.2.3)\n",
            "Requirement already satisfied: six>=1.5 in /usr/local/lib/python3.10/dist-packages (from python-dateutil>=2.5.3->pinecone) (1.16.0)\n",
            "Reading package lists... Done\n",
            "Building dependency tree... Done\n",
            "Reading state information... Done\n",
            "E: Unable to locate package pinecone\n"
          ]
        }
      ]
    },
    {
      "source": [
        "import pinecone\n",
        "import os\n",
        "\n",
        "# Initialize Pinecone connection\n",
        "pinecone.init(api_key=pinecone_key, environment=\"us-east1-gcp\")\n",
        " # Ensure \"us-east1-gcp\" is the correct environment for your starter plan\n",
        "\n",
        "# Connect to the index\n",
        "index = pinecone.Index(\"quickstart\")"
      ],
      "cell_type": "code",
      "metadata": {
        "id": "H8jXizF5Y0In"
      },
      "execution_count": 46,
      "outputs": []
    },
    {
      "cell_type": "code",
      "source": [
        "index_name ='test'"
      ],
      "metadata": {
        "id": "_nauBdVaYGMh"
      },
      "execution_count": 41,
      "outputs": []
    },
    {
      "cell_type": "markdown",
      "source": [
        "create Embedding for each of the Text chunk"
      ],
      "metadata": {
        "id": "LLGwzb3LZZIH"
      }
    },
    {
      "cell_type": "code",
      "source": [
        "docsearch = Pinecone.from_texts([t.page_content for t in text_chunks], hf, index_name=index_name)"
      ],
      "metadata": {
        "colab": {
          "base_uri": "https://localhost:8080/",
          "height": 356
        },
        "id": "hXQYKIa6ZWzo",
        "outputId": "867a872d-c9c5-45b5-9509-f2c51e70c984"
      },
      "execution_count": 42,
      "outputs": [
        {
          "output_type": "error",
          "ename": "ValueError",
          "evalue": "No active indexes found in your Pinecone project, are you sure you're using the right Pinecone API key and Environment? Please double check your Pinecone dashboard.",
          "traceback": [
            "\u001b[0;31m---------------------------------------------------------------------------\u001b[0m",
            "\u001b[0;31mValueError\u001b[0m                                Traceback (most recent call last)",
            "\u001b[0;32m<ipython-input-42-e493da1fb7fc>\u001b[0m in \u001b[0;36m<cell line: 1>\u001b[0;34m()\u001b[0m\n\u001b[0;32m----> 1\u001b[0;31m \u001b[0mdocsearch\u001b[0m \u001b[0;34m=\u001b[0m \u001b[0mPinecone\u001b[0m\u001b[0;34m.\u001b[0m\u001b[0mfrom_texts\u001b[0m\u001b[0;34m(\u001b[0m\u001b[0;34m[\u001b[0m\u001b[0mt\u001b[0m\u001b[0;34m.\u001b[0m\u001b[0mpage_content\u001b[0m \u001b[0;32mfor\u001b[0m \u001b[0mt\u001b[0m \u001b[0;32min\u001b[0m \u001b[0mtext_chunks\u001b[0m\u001b[0;34m]\u001b[0m\u001b[0;34m,\u001b[0m \u001b[0mhf\u001b[0m\u001b[0;34m,\u001b[0m \u001b[0mindex_name\u001b[0m\u001b[0;34m=\u001b[0m\u001b[0mindex_name\u001b[0m\u001b[0;34m)\u001b[0m\u001b[0;34m\u001b[0m\u001b[0;34m\u001b[0m\u001b[0m\n\u001b[0m",
            "\u001b[0;32m/usr/local/lib/python3.10/dist-packages/langchain_community/vectorstores/pinecone.py\u001b[0m in \u001b[0;36mfrom_texts\u001b[0;34m(cls, texts, embedding, metadatas, ids, batch_size, text_key, namespace, index_name, upsert_kwargs, pool_threads, embeddings_chunk_size, **kwargs)\u001b[0m\n\u001b[1;32m    430\u001b[0m                 )\n\u001b[1;32m    431\u001b[0m         \"\"\"\n\u001b[0;32m--> 432\u001b[0;31m         \u001b[0mpinecone_index\u001b[0m \u001b[0;34m=\u001b[0m \u001b[0mcls\u001b[0m\u001b[0;34m.\u001b[0m\u001b[0mget_pinecone_index\u001b[0m\u001b[0;34m(\u001b[0m\u001b[0mindex_name\u001b[0m\u001b[0;34m,\u001b[0m \u001b[0mpool_threads\u001b[0m\u001b[0;34m)\u001b[0m\u001b[0;34m\u001b[0m\u001b[0;34m\u001b[0m\u001b[0m\n\u001b[0m\u001b[1;32m    433\u001b[0m         \u001b[0mpinecone\u001b[0m \u001b[0;34m=\u001b[0m \u001b[0mcls\u001b[0m\u001b[0;34m(\u001b[0m\u001b[0mpinecone_index\u001b[0m\u001b[0;34m,\u001b[0m \u001b[0membedding\u001b[0m\u001b[0;34m,\u001b[0m \u001b[0mtext_key\u001b[0m\u001b[0;34m,\u001b[0m \u001b[0mnamespace\u001b[0m\u001b[0;34m,\u001b[0m \u001b[0;34m**\u001b[0m\u001b[0mkwargs\u001b[0m\u001b[0;34m)\u001b[0m\u001b[0;34m\u001b[0m\u001b[0;34m\u001b[0m\u001b[0m\n\u001b[1;32m    434\u001b[0m \u001b[0;34m\u001b[0m\u001b[0m\n",
            "\u001b[0;32m/usr/local/lib/python3.10/dist-packages/langchain_community/vectorstores/pinecone.py\u001b[0m in \u001b[0;36mget_pinecone_index\u001b[0;34m(cls, index_name, pool_threads)\u001b[0m\n\u001b[1;32m    375\u001b[0m             )\n\u001b[1;32m    376\u001b[0m         \u001b[0;32melif\u001b[0m \u001b[0mlen\u001b[0m\u001b[0;34m(\u001b[0m\u001b[0mindex_names\u001b[0m\u001b[0;34m)\u001b[0m \u001b[0;34m==\u001b[0m \u001b[0;36m0\u001b[0m\u001b[0;34m:\u001b[0m\u001b[0;34m\u001b[0m\u001b[0;34m\u001b[0m\u001b[0m\n\u001b[0;32m--> 377\u001b[0;31m             raise ValueError(\n\u001b[0m\u001b[1;32m    378\u001b[0m                 \u001b[0;34m\"No active indexes found in your Pinecone project, \"\u001b[0m\u001b[0;34m\u001b[0m\u001b[0;34m\u001b[0m\u001b[0m\n\u001b[1;32m    379\u001b[0m                 \u001b[0;34m\"are you sure you're using the right Pinecone API key and Environment? \"\u001b[0m\u001b[0;34m\u001b[0m\u001b[0;34m\u001b[0m\u001b[0m\n",
            "\u001b[0;31mValueError\u001b[0m: No active indexes found in your Pinecone project, are you sure you're using the right Pinecone API key and Environment? Please double check your Pinecone dashboard."
          ]
        }
      ]
    },
    {
      "source": [
        "# ... (other imports and code) ...\n",
        "\n",
        "# Initialize Pinecone connection\n",
        "pinecone.init(api_key=pinecone_key)\n",
        "\n",
        "# Create the index if it doesn't exist\n",
        "if index_name not in pinecone.list_indexes():\n",
        "    pinecone.create_index(name=index_name, dimension=len(results))\n",
        "\n",
        "# Now you can create the docsearch object:\n",
        "docsearch = Pinecone.from_texts([t.page_content for t in text_chunks], hf, index_name=index_name)"
      ],
      "cell_type": "code",
      "metadata": {
        "colab": {
          "base_uri": "https://localhost:8080/",
          "height": 529
        },
        "id": "39jF8AGQaY2Q",
        "outputId": "3028a618-9407-4726-c946-b26f5f034458"
      },
      "execution_count": 39,
      "outputs": [
        {
          "output_type": "error",
          "ename": "ApiException",
          "evalue": "(400)\nReason: Bad Request\nHTTP response headers: HTTPHeaderDict({'content-type': 'text/plain; charset=utf-8', 'access-control-allow-origin': '*', 'vary': 'origin,access-control-request-method,access-control-request-headers', 'access-control-expose-headers': '*', 'x-pinecone-api-version': '2024-04', 'X-Cloud-Trace-Context': 'cf00ec08379c6d1e60c1ffa9a01ed4a0', 'Date': 'Thu, 21 Nov 2024 15:49:06 GMT', 'Server': 'Google Frontend', 'Content-Length': '136', 'Via': '1.1 google', 'Alt-Svc': 'h3=\":443\"; ma=2592000,h3-29=\":443\"; ma=2592000'})\nHTTP response body: Request failed. You've reach the max pod-based indexes allowed in project Default (0). To add more pod-based indexes, upgrade your plan.\n",
          "traceback": [
            "\u001b[0;31m---------------------------------------------------------------------------\u001b[0m",
            "\u001b[0;31mApiException\u001b[0m                              Traceback (most recent call last)",
            "\u001b[0;32m<ipython-input-39-b0098157fc2c>\u001b[0m in \u001b[0;36m<cell line: 7>\u001b[0;34m()\u001b[0m\n\u001b[1;32m      6\u001b[0m \u001b[0;31m# Create the index if it doesn't exist\u001b[0m\u001b[0;34m\u001b[0m\u001b[0;34m\u001b[0m\u001b[0m\n\u001b[1;32m      7\u001b[0m \u001b[0;32mif\u001b[0m \u001b[0mindex_name\u001b[0m \u001b[0;32mnot\u001b[0m \u001b[0;32min\u001b[0m \u001b[0mpinecone\u001b[0m\u001b[0;34m.\u001b[0m\u001b[0mlist_indexes\u001b[0m\u001b[0;34m(\u001b[0m\u001b[0;34m)\u001b[0m\u001b[0;34m:\u001b[0m\u001b[0;34m\u001b[0m\u001b[0;34m\u001b[0m\u001b[0m\n\u001b[0;32m----> 8\u001b[0;31m     \u001b[0mpinecone\u001b[0m\u001b[0;34m.\u001b[0m\u001b[0mcreate_index\u001b[0m\u001b[0;34m(\u001b[0m\u001b[0mname\u001b[0m\u001b[0;34m=\u001b[0m\u001b[0mindex_name\u001b[0m\u001b[0;34m,\u001b[0m \u001b[0mdimension\u001b[0m\u001b[0;34m=\u001b[0m\u001b[0mlen\u001b[0m\u001b[0;34m(\u001b[0m\u001b[0mresults\u001b[0m\u001b[0;34m)\u001b[0m\u001b[0;34m)\u001b[0m\u001b[0;34m\u001b[0m\u001b[0;34m\u001b[0m\u001b[0m\n\u001b[0m\u001b[1;32m      9\u001b[0m \u001b[0;34m\u001b[0m\u001b[0m\n\u001b[1;32m     10\u001b[0m \u001b[0;31m# Now you can create the docsearch object:\u001b[0m\u001b[0;34m\u001b[0m\u001b[0;34m\u001b[0m\u001b[0m\n",
            "\u001b[0;32m/usr/local/lib/python3.10/dist-packages/pinecone/manage.py\u001b[0m in \u001b[0;36mcreate_index\u001b[0;34m(name, dimension, timeout, index_type, metric, replicas, shards, pods, pod_type, index_config, metadata_config, source_collection)\u001b[0m\n\u001b[1;32m    116\u001b[0m     \u001b[0mapi_instance\u001b[0m \u001b[0;34m=\u001b[0m \u001b[0m_get_api_instance\u001b[0m\u001b[0;34m(\u001b[0m\u001b[0;34m)\u001b[0m\u001b[0;34m\u001b[0m\u001b[0;34m\u001b[0m\u001b[0m\n\u001b[1;32m    117\u001b[0m \u001b[0;34m\u001b[0m\u001b[0m\n\u001b[0;32m--> 118\u001b[0;31m     api_instance.create_index(create_request=CreateRequest(\n\u001b[0m\u001b[1;32m    119\u001b[0m         \u001b[0mname\u001b[0m\u001b[0;34m=\u001b[0m\u001b[0mname\u001b[0m\u001b[0;34m,\u001b[0m\u001b[0;34m\u001b[0m\u001b[0;34m\u001b[0m\u001b[0m\n\u001b[1;32m    120\u001b[0m         \u001b[0mdimension\u001b[0m\u001b[0;34m=\u001b[0m\u001b[0mdimension\u001b[0m\u001b[0;34m,\u001b[0m\u001b[0;34m\u001b[0m\u001b[0;34m\u001b[0m\u001b[0m\n",
            "\u001b[0;32m/usr/local/lib/python3.10/dist-packages/pinecone/core/client/api_client.py\u001b[0m in \u001b[0;36m__call__\u001b[0;34m(self, *args, **kwargs)\u001b[0m\n\u001b[1;32m    774\u001b[0m \u001b[0;34m\u001b[0m\u001b[0m\n\u001b[1;32m    775\u001b[0m         \"\"\"\n\u001b[0;32m--> 776\u001b[0;31m         \u001b[0;32mreturn\u001b[0m \u001b[0mself\u001b[0m\u001b[0;34m.\u001b[0m\u001b[0mcallable\u001b[0m\u001b[0;34m(\u001b[0m\u001b[0mself\u001b[0m\u001b[0;34m,\u001b[0m \u001b[0;34m*\u001b[0m\u001b[0margs\u001b[0m\u001b[0;34m,\u001b[0m \u001b[0;34m**\u001b[0m\u001b[0mkwargs\u001b[0m\u001b[0;34m)\u001b[0m\u001b[0;34m\u001b[0m\u001b[0;34m\u001b[0m\u001b[0m\n\u001b[0m\u001b[1;32m    777\u001b[0m \u001b[0;34m\u001b[0m\u001b[0m\n\u001b[1;32m    778\u001b[0m     \u001b[0;32mdef\u001b[0m \u001b[0mcall_with_http_info\u001b[0m\u001b[0;34m(\u001b[0m\u001b[0mself\u001b[0m\u001b[0;34m,\u001b[0m \u001b[0;34m**\u001b[0m\u001b[0mkwargs\u001b[0m\u001b[0;34m)\u001b[0m\u001b[0;34m:\u001b[0m\u001b[0;34m\u001b[0m\u001b[0;34m\u001b[0m\u001b[0m\n",
            "\u001b[0;32m/usr/local/lib/python3.10/dist-packages/pinecone/core/client/api/index_operations_api.py\u001b[0m in \u001b[0;36m__create_index\u001b[0;34m(self, **kwargs)\u001b[0m\n\u001b[1;32m    366\u001b[0m             )\n\u001b[1;32m    367\u001b[0m             \u001b[0mkwargs\u001b[0m\u001b[0;34m[\u001b[0m\u001b[0;34m'_host_index'\u001b[0m\u001b[0;34m]\u001b[0m \u001b[0;34m=\u001b[0m \u001b[0mkwargs\u001b[0m\u001b[0;34m.\u001b[0m\u001b[0mget\u001b[0m\u001b[0;34m(\u001b[0m\u001b[0;34m'_host_index'\u001b[0m\u001b[0;34m)\u001b[0m\u001b[0;34m\u001b[0m\u001b[0;34m\u001b[0m\u001b[0m\n\u001b[0;32m--> 368\u001b[0;31m             \u001b[0;32mreturn\u001b[0m \u001b[0mself\u001b[0m\u001b[0;34m.\u001b[0m\u001b[0mcall_with_http_info\u001b[0m\u001b[0;34m(\u001b[0m\u001b[0;34m**\u001b[0m\u001b[0mkwargs\u001b[0m\u001b[0;34m)\u001b[0m\u001b[0;34m\u001b[0m\u001b[0;34m\u001b[0m\u001b[0m\n\u001b[0m\u001b[1;32m    369\u001b[0m \u001b[0;34m\u001b[0m\u001b[0m\n\u001b[1;32m    370\u001b[0m         self.create_index = _Endpoint(\n",
            "\u001b[0;32m/usr/local/lib/python3.10/dist-packages/pinecone/core/client/api_client.py\u001b[0m in \u001b[0;36mcall_with_http_info\u001b[0;34m(self, **kwargs)\u001b[0m\n\u001b[1;32m    836\u001b[0m             \u001b[0mparams\u001b[0m\u001b[0;34m[\u001b[0m\u001b[0;34m'header'\u001b[0m\u001b[0;34m]\u001b[0m\u001b[0;34m[\u001b[0m\u001b[0;34m'Content-Type'\u001b[0m\u001b[0;34m]\u001b[0m \u001b[0;34m=\u001b[0m \u001b[0mheader_list\u001b[0m\u001b[0;34m\u001b[0m\u001b[0;34m\u001b[0m\u001b[0m\n\u001b[1;32m    837\u001b[0m \u001b[0;34m\u001b[0m\u001b[0m\n\u001b[0;32m--> 838\u001b[0;31m         return self.api_client.call_api(\n\u001b[0m\u001b[1;32m    839\u001b[0m             \u001b[0mself\u001b[0m\u001b[0;34m.\u001b[0m\u001b[0msettings\u001b[0m\u001b[0;34m[\u001b[0m\u001b[0;34m'endpoint_path'\u001b[0m\u001b[0;34m]\u001b[0m\u001b[0;34m,\u001b[0m \u001b[0mself\u001b[0m\u001b[0;34m.\u001b[0m\u001b[0msettings\u001b[0m\u001b[0;34m[\u001b[0m\u001b[0;34m'http_method'\u001b[0m\u001b[0;34m]\u001b[0m\u001b[0;34m,\u001b[0m\u001b[0;34m\u001b[0m\u001b[0;34m\u001b[0m\u001b[0m\n\u001b[1;32m    840\u001b[0m             \u001b[0mparams\u001b[0m\u001b[0;34m[\u001b[0m\u001b[0;34m'path'\u001b[0m\u001b[0;34m]\u001b[0m\u001b[0;34m,\u001b[0m\u001b[0;34m\u001b[0m\u001b[0;34m\u001b[0m\u001b[0m\n",
            "\u001b[0;32m/usr/local/lib/python3.10/dist-packages/pinecone/core/client/api_client.py\u001b[0m in \u001b[0;36mcall_api\u001b[0;34m(self, resource_path, method, path_params, query_params, header_params, body, post_params, files, response_type, auth_settings, async_req, _return_http_data_only, collection_formats, _preload_content, _request_timeout, _host, _check_type)\u001b[0m\n\u001b[1;32m    411\u001b[0m         \"\"\"\n\u001b[1;32m    412\u001b[0m         \u001b[0;32mif\u001b[0m \u001b[0;32mnot\u001b[0m \u001b[0masync_req\u001b[0m\u001b[0;34m:\u001b[0m\u001b[0;34m\u001b[0m\u001b[0;34m\u001b[0m\u001b[0m\n\u001b[0;32m--> 413\u001b[0;31m             return self.__call_api(resource_path, method,\n\u001b[0m\u001b[1;32m    414\u001b[0m                                    \u001b[0mpath_params\u001b[0m\u001b[0;34m,\u001b[0m \u001b[0mquery_params\u001b[0m\u001b[0;34m,\u001b[0m \u001b[0mheader_params\u001b[0m\u001b[0;34m,\u001b[0m\u001b[0;34m\u001b[0m\u001b[0;34m\u001b[0m\u001b[0m\n\u001b[1;32m    415\u001b[0m                                    \u001b[0mbody\u001b[0m\u001b[0;34m,\u001b[0m \u001b[0mpost_params\u001b[0m\u001b[0;34m,\u001b[0m \u001b[0mfiles\u001b[0m\u001b[0;34m,\u001b[0m\u001b[0;34m\u001b[0m\u001b[0;34m\u001b[0m\u001b[0m\n",
            "\u001b[0;32m/usr/local/lib/python3.10/dist-packages/pinecone/core/client/api_client.py\u001b[0m in \u001b[0;36m__call_api\u001b[0;34m(self, resource_path, method, path_params, query_params, header_params, body, post_params, files, response_type, auth_settings, _return_http_data_only, collection_formats, _preload_content, _request_timeout, _host, _check_type)\u001b[0m\n\u001b[1;32m    205\u001b[0m         \u001b[0;32mexcept\u001b[0m \u001b[0mApiException\u001b[0m \u001b[0;32mas\u001b[0m \u001b[0me\u001b[0m\u001b[0;34m:\u001b[0m\u001b[0;34m\u001b[0m\u001b[0;34m\u001b[0m\u001b[0m\n\u001b[1;32m    206\u001b[0m             \u001b[0me\u001b[0m\u001b[0;34m.\u001b[0m\u001b[0mbody\u001b[0m \u001b[0;34m=\u001b[0m \u001b[0me\u001b[0m\u001b[0;34m.\u001b[0m\u001b[0mbody\u001b[0m\u001b[0;34m.\u001b[0m\u001b[0mdecode\u001b[0m\u001b[0;34m(\u001b[0m\u001b[0;34m'utf-8'\u001b[0m\u001b[0;34m)\u001b[0m\u001b[0;34m\u001b[0m\u001b[0;34m\u001b[0m\u001b[0m\n\u001b[0;32m--> 207\u001b[0;31m             \u001b[0;32mraise\u001b[0m \u001b[0me\u001b[0m\u001b[0;34m\u001b[0m\u001b[0;34m\u001b[0m\u001b[0m\n\u001b[0m\u001b[1;32m    208\u001b[0m \u001b[0;34m\u001b[0m\u001b[0m\n\u001b[1;32m    209\u001b[0m         \u001b[0mself\u001b[0m\u001b[0;34m.\u001b[0m\u001b[0mlast_response\u001b[0m \u001b[0;34m=\u001b[0m \u001b[0mresponse_data\u001b[0m\u001b[0;34m\u001b[0m\u001b[0;34m\u001b[0m\u001b[0m\n",
            "\u001b[0;32m/usr/local/lib/python3.10/dist-packages/pinecone/core/client/api_client.py\u001b[0m in \u001b[0;36m__call_api\u001b[0;34m(self, resource_path, method, path_params, query_params, header_params, body, post_params, files, response_type, auth_settings, _return_http_data_only, collection_formats, _preload_content, _request_timeout, _host, _check_type)\u001b[0m\n\u001b[1;32m    198\u001b[0m         \u001b[0;32mtry\u001b[0m\u001b[0;34m:\u001b[0m\u001b[0;34m\u001b[0m\u001b[0;34m\u001b[0m\u001b[0m\n\u001b[1;32m    199\u001b[0m             \u001b[0;31m# perform request and return response\u001b[0m\u001b[0;34m\u001b[0m\u001b[0;34m\u001b[0m\u001b[0m\n\u001b[0;32m--> 200\u001b[0;31m             response_data = self.request(\n\u001b[0m\u001b[1;32m    201\u001b[0m                 \u001b[0mmethod\u001b[0m\u001b[0;34m,\u001b[0m \u001b[0murl\u001b[0m\u001b[0;34m,\u001b[0m \u001b[0mquery_params\u001b[0m\u001b[0;34m=\u001b[0m\u001b[0mquery_params\u001b[0m\u001b[0;34m,\u001b[0m \u001b[0mheaders\u001b[0m\u001b[0;34m=\u001b[0m\u001b[0mheader_params\u001b[0m\u001b[0;34m,\u001b[0m\u001b[0;34m\u001b[0m\u001b[0;34m\u001b[0m\u001b[0m\n\u001b[1;32m    202\u001b[0m                 \u001b[0mpost_params\u001b[0m\u001b[0;34m=\u001b[0m\u001b[0mpost_params\u001b[0m\u001b[0;34m,\u001b[0m \u001b[0mbody\u001b[0m\u001b[0;34m=\u001b[0m\u001b[0mbody\u001b[0m\u001b[0;34m,\u001b[0m\u001b[0;34m\u001b[0m\u001b[0;34m\u001b[0m\u001b[0m\n",
            "\u001b[0;32m/usr/local/lib/python3.10/dist-packages/pinecone/core/client/api_client.py\u001b[0m in \u001b[0;36mrequest\u001b[0;34m(self, method, url, query_params, headers, post_params, body, _preload_content, _request_timeout)\u001b[0m\n\u001b[1;32m    457\u001b[0m                                             body=body)\n\u001b[1;32m    458\u001b[0m         \u001b[0;32melif\u001b[0m \u001b[0mmethod\u001b[0m \u001b[0;34m==\u001b[0m \u001b[0;34m\"POST\"\u001b[0m\u001b[0;34m:\u001b[0m\u001b[0;34m\u001b[0m\u001b[0;34m\u001b[0m\u001b[0m\n\u001b[0;32m--> 459\u001b[0;31m             return self.rest_client.POST(url,\n\u001b[0m\u001b[1;32m    460\u001b[0m                                          \u001b[0mquery_params\u001b[0m\u001b[0;34m=\u001b[0m\u001b[0mquery_params\u001b[0m\u001b[0;34m,\u001b[0m\u001b[0;34m\u001b[0m\u001b[0;34m\u001b[0m\u001b[0m\n\u001b[1;32m    461\u001b[0m                                          \u001b[0mheaders\u001b[0m\u001b[0;34m=\u001b[0m\u001b[0mheaders\u001b[0m\u001b[0;34m,\u001b[0m\u001b[0;34m\u001b[0m\u001b[0;34m\u001b[0m\u001b[0m\n",
            "\u001b[0;32m/usr/local/lib/python3.10/dist-packages/pinecone/core/client/rest.py\u001b[0m in \u001b[0;36mPOST\u001b[0;34m(self, url, headers, query_params, post_params, body, _preload_content, _request_timeout)\u001b[0m\n\u001b[1;32m    269\u001b[0m     def POST(self, url, headers=None, query_params=None, post_params=None,\n\u001b[1;32m    270\u001b[0m              body=None, _preload_content=True, _request_timeout=None):\n\u001b[0;32m--> 271\u001b[0;31m         return self.request(\"POST\", url,\n\u001b[0m\u001b[1;32m    272\u001b[0m                             \u001b[0mheaders\u001b[0m\u001b[0;34m=\u001b[0m\u001b[0mheaders\u001b[0m\u001b[0;34m,\u001b[0m\u001b[0;34m\u001b[0m\u001b[0;34m\u001b[0m\u001b[0m\n\u001b[1;32m    273\u001b[0m                             \u001b[0mquery_params\u001b[0m\u001b[0;34m=\u001b[0m\u001b[0mquery_params\u001b[0m\u001b[0;34m,\u001b[0m\u001b[0;34m\u001b[0m\u001b[0;34m\u001b[0m\u001b[0m\n",
            "\u001b[0;32m/usr/local/lib/python3.10/dist-packages/pinecone/core/client/rest.py\u001b[0m in \u001b[0;36mrequest\u001b[0;34m(self, method, url, query_params, headers, body, post_params, _preload_content, _request_timeout)\u001b[0m\n\u001b[1;32m    228\u001b[0m                 \u001b[0;32mraise\u001b[0m \u001b[0mServiceException\u001b[0m\u001b[0;34m(\u001b[0m\u001b[0mhttp_resp\u001b[0m\u001b[0;34m=\u001b[0m\u001b[0mr\u001b[0m\u001b[0;34m)\u001b[0m\u001b[0;34m\u001b[0m\u001b[0;34m\u001b[0m\u001b[0m\n\u001b[1;32m    229\u001b[0m \u001b[0;34m\u001b[0m\u001b[0m\n\u001b[0;32m--> 230\u001b[0;31m             \u001b[0;32mraise\u001b[0m \u001b[0mApiException\u001b[0m\u001b[0;34m(\u001b[0m\u001b[0mhttp_resp\u001b[0m\u001b[0;34m=\u001b[0m\u001b[0mr\u001b[0m\u001b[0;34m)\u001b[0m\u001b[0;34m\u001b[0m\u001b[0;34m\u001b[0m\u001b[0m\n\u001b[0m\u001b[1;32m    231\u001b[0m \u001b[0;34m\u001b[0m\u001b[0m\n\u001b[1;32m    232\u001b[0m         \u001b[0;32mreturn\u001b[0m \u001b[0mr\u001b[0m\u001b[0;34m\u001b[0m\u001b[0;34m\u001b[0m\u001b[0m\n",
            "\u001b[0;31mApiException\u001b[0m: (400)\nReason: Bad Request\nHTTP response headers: HTTPHeaderDict({'content-type': 'text/plain; charset=utf-8', 'access-control-allow-origin': '*', 'vary': 'origin,access-control-request-method,access-control-request-headers', 'access-control-expose-headers': '*', 'x-pinecone-api-version': '2024-04', 'X-Cloud-Trace-Context': 'cf00ec08379c6d1e60c1ffa9a01ed4a0', 'Date': 'Thu, 21 Nov 2024 15:49:06 GMT', 'Server': 'Google Frontend', 'Content-Length': '136', 'Via': '1.1 google', 'Alt-Svc': 'h3=\":443\"; ma=2592000,h3-29=\":443\"; ma=2592000'})\nHTTP response body: Request failed. You've reach the max pod-based indexes allowed in project Default (0). To add more pod-based indexes, upgrade your plan.\n"
          ]
        }
      ]
    },
    {
      "source": [
        "# Initialize Pinecone connection (you already did this)\n",
        "pinecone.init(api_key=pinecone_key)\n",
        "\n",
        "# Create the index if it doesn't exist using METADATA_CONFIG for serverless\n",
        "if index_name not in pinecone.list_indexes():\n",
        "    pinecone.create_index(\n",
        "        name=index_name,\n",
        "        dimension=len(results),  # Assume results is from your hf.embed_query\n",
        "        metadata_config={\"pod_type\": \"p1\"}  # Specify serverless pod type\n",
        "    )\n",
        "\n",
        "# Now you can create the docsearch object:\n",
        "docsearch = Pinecone.from_texts([t.page_content for t in text_chunks], hf, index_name=index_name)"
      ],
      "cell_type": "code",
      "metadata": {
        "colab": {
          "base_uri": "https://localhost:8080/",
          "height": 529
        },
        "id": "iL2qJkJraibZ",
        "outputId": "4d9dabf1-6f51-4b5d-fb87-c5091279fd34"
      },
      "execution_count": 43,
      "outputs": [
        {
          "output_type": "error",
          "ename": "ApiException",
          "evalue": "(400)\nReason: Bad Request\nHTTP response headers: HTTPHeaderDict({'content-type': 'text/plain; charset=utf-8', 'access-control-allow-origin': '*', 'vary': 'origin,access-control-request-method,access-control-request-headers', 'access-control-expose-headers': '*', 'x-pinecone-api-version': '2024-04', 'X-Cloud-Trace-Context': '4d6fb7c3116acbb5de3ed1f0b2e5ed68', 'Date': 'Thu, 21 Nov 2024 15:51:22 GMT', 'Server': 'Google Frontend', 'Content-Length': '136', 'Via': '1.1 google', 'Alt-Svc': 'h3=\":443\"; ma=2592000,h3-29=\":443\"; ma=2592000'})\nHTTP response body: Request failed. You've reach the max pod-based indexes allowed in project Default (0). To add more pod-based indexes, upgrade your plan.\n",
          "traceback": [
            "\u001b[0;31m---------------------------------------------------------------------------\u001b[0m",
            "\u001b[0;31mApiException\u001b[0m                              Traceback (most recent call last)",
            "\u001b[0;32m<ipython-input-43-bfccaea097f6>\u001b[0m in \u001b[0;36m<cell line: 5>\u001b[0;34m()\u001b[0m\n\u001b[1;32m      4\u001b[0m \u001b[0;31m# Create the index if it doesn't exist using METADATA_CONFIG for serverless\u001b[0m\u001b[0;34m\u001b[0m\u001b[0;34m\u001b[0m\u001b[0m\n\u001b[1;32m      5\u001b[0m \u001b[0;32mif\u001b[0m \u001b[0mindex_name\u001b[0m \u001b[0;32mnot\u001b[0m \u001b[0;32min\u001b[0m \u001b[0mpinecone\u001b[0m\u001b[0;34m.\u001b[0m\u001b[0mlist_indexes\u001b[0m\u001b[0;34m(\u001b[0m\u001b[0;34m)\u001b[0m\u001b[0;34m:\u001b[0m\u001b[0;34m\u001b[0m\u001b[0;34m\u001b[0m\u001b[0m\n\u001b[0;32m----> 6\u001b[0;31m     pinecone.create_index(\n\u001b[0m\u001b[1;32m      7\u001b[0m         \u001b[0mname\u001b[0m\u001b[0;34m=\u001b[0m\u001b[0mindex_name\u001b[0m\u001b[0;34m,\u001b[0m\u001b[0;34m\u001b[0m\u001b[0;34m\u001b[0m\u001b[0m\n\u001b[1;32m      8\u001b[0m         \u001b[0mdimension\u001b[0m\u001b[0;34m=\u001b[0m\u001b[0mlen\u001b[0m\u001b[0;34m(\u001b[0m\u001b[0mresults\u001b[0m\u001b[0;34m)\u001b[0m\u001b[0;34m,\u001b[0m  \u001b[0;31m# Assume results is from your hf.embed_query\u001b[0m\u001b[0;34m\u001b[0m\u001b[0;34m\u001b[0m\u001b[0m\n",
            "\u001b[0;32m/usr/local/lib/python3.10/dist-packages/pinecone/manage.py\u001b[0m in \u001b[0;36mcreate_index\u001b[0;34m(name, dimension, timeout, index_type, metric, replicas, shards, pods, pod_type, index_config, metadata_config, source_collection)\u001b[0m\n\u001b[1;32m    116\u001b[0m     \u001b[0mapi_instance\u001b[0m \u001b[0;34m=\u001b[0m \u001b[0m_get_api_instance\u001b[0m\u001b[0;34m(\u001b[0m\u001b[0;34m)\u001b[0m\u001b[0;34m\u001b[0m\u001b[0;34m\u001b[0m\u001b[0m\n\u001b[1;32m    117\u001b[0m \u001b[0;34m\u001b[0m\u001b[0m\n\u001b[0;32m--> 118\u001b[0;31m     api_instance.create_index(create_request=CreateRequest(\n\u001b[0m\u001b[1;32m    119\u001b[0m         \u001b[0mname\u001b[0m\u001b[0;34m=\u001b[0m\u001b[0mname\u001b[0m\u001b[0;34m,\u001b[0m\u001b[0;34m\u001b[0m\u001b[0;34m\u001b[0m\u001b[0m\n\u001b[1;32m    120\u001b[0m         \u001b[0mdimension\u001b[0m\u001b[0;34m=\u001b[0m\u001b[0mdimension\u001b[0m\u001b[0;34m,\u001b[0m\u001b[0;34m\u001b[0m\u001b[0;34m\u001b[0m\u001b[0m\n",
            "\u001b[0;32m/usr/local/lib/python3.10/dist-packages/pinecone/core/client/api_client.py\u001b[0m in \u001b[0;36m__call__\u001b[0;34m(self, *args, **kwargs)\u001b[0m\n\u001b[1;32m    774\u001b[0m \u001b[0;34m\u001b[0m\u001b[0m\n\u001b[1;32m    775\u001b[0m         \"\"\"\n\u001b[0;32m--> 776\u001b[0;31m         \u001b[0;32mreturn\u001b[0m \u001b[0mself\u001b[0m\u001b[0;34m.\u001b[0m\u001b[0mcallable\u001b[0m\u001b[0;34m(\u001b[0m\u001b[0mself\u001b[0m\u001b[0;34m,\u001b[0m \u001b[0;34m*\u001b[0m\u001b[0margs\u001b[0m\u001b[0;34m,\u001b[0m \u001b[0;34m**\u001b[0m\u001b[0mkwargs\u001b[0m\u001b[0;34m)\u001b[0m\u001b[0;34m\u001b[0m\u001b[0;34m\u001b[0m\u001b[0m\n\u001b[0m\u001b[1;32m    777\u001b[0m \u001b[0;34m\u001b[0m\u001b[0m\n\u001b[1;32m    778\u001b[0m     \u001b[0;32mdef\u001b[0m \u001b[0mcall_with_http_info\u001b[0m\u001b[0;34m(\u001b[0m\u001b[0mself\u001b[0m\u001b[0;34m,\u001b[0m \u001b[0;34m**\u001b[0m\u001b[0mkwargs\u001b[0m\u001b[0;34m)\u001b[0m\u001b[0;34m:\u001b[0m\u001b[0;34m\u001b[0m\u001b[0;34m\u001b[0m\u001b[0m\n",
            "\u001b[0;32m/usr/local/lib/python3.10/dist-packages/pinecone/core/client/api/index_operations_api.py\u001b[0m in \u001b[0;36m__create_index\u001b[0;34m(self, **kwargs)\u001b[0m\n\u001b[1;32m    366\u001b[0m             )\n\u001b[1;32m    367\u001b[0m             \u001b[0mkwargs\u001b[0m\u001b[0;34m[\u001b[0m\u001b[0;34m'_host_index'\u001b[0m\u001b[0;34m]\u001b[0m \u001b[0;34m=\u001b[0m \u001b[0mkwargs\u001b[0m\u001b[0;34m.\u001b[0m\u001b[0mget\u001b[0m\u001b[0;34m(\u001b[0m\u001b[0;34m'_host_index'\u001b[0m\u001b[0;34m)\u001b[0m\u001b[0;34m\u001b[0m\u001b[0;34m\u001b[0m\u001b[0m\n\u001b[0;32m--> 368\u001b[0;31m             \u001b[0;32mreturn\u001b[0m \u001b[0mself\u001b[0m\u001b[0;34m.\u001b[0m\u001b[0mcall_with_http_info\u001b[0m\u001b[0;34m(\u001b[0m\u001b[0;34m**\u001b[0m\u001b[0mkwargs\u001b[0m\u001b[0;34m)\u001b[0m\u001b[0;34m\u001b[0m\u001b[0;34m\u001b[0m\u001b[0m\n\u001b[0m\u001b[1;32m    369\u001b[0m \u001b[0;34m\u001b[0m\u001b[0m\n\u001b[1;32m    370\u001b[0m         self.create_index = _Endpoint(\n",
            "\u001b[0;32m/usr/local/lib/python3.10/dist-packages/pinecone/core/client/api_client.py\u001b[0m in \u001b[0;36mcall_with_http_info\u001b[0;34m(self, **kwargs)\u001b[0m\n\u001b[1;32m    836\u001b[0m             \u001b[0mparams\u001b[0m\u001b[0;34m[\u001b[0m\u001b[0;34m'header'\u001b[0m\u001b[0;34m]\u001b[0m\u001b[0;34m[\u001b[0m\u001b[0;34m'Content-Type'\u001b[0m\u001b[0;34m]\u001b[0m \u001b[0;34m=\u001b[0m \u001b[0mheader_list\u001b[0m\u001b[0;34m\u001b[0m\u001b[0;34m\u001b[0m\u001b[0m\n\u001b[1;32m    837\u001b[0m \u001b[0;34m\u001b[0m\u001b[0m\n\u001b[0;32m--> 838\u001b[0;31m         return self.api_client.call_api(\n\u001b[0m\u001b[1;32m    839\u001b[0m             \u001b[0mself\u001b[0m\u001b[0;34m.\u001b[0m\u001b[0msettings\u001b[0m\u001b[0;34m[\u001b[0m\u001b[0;34m'endpoint_path'\u001b[0m\u001b[0;34m]\u001b[0m\u001b[0;34m,\u001b[0m \u001b[0mself\u001b[0m\u001b[0;34m.\u001b[0m\u001b[0msettings\u001b[0m\u001b[0;34m[\u001b[0m\u001b[0;34m'http_method'\u001b[0m\u001b[0;34m]\u001b[0m\u001b[0;34m,\u001b[0m\u001b[0;34m\u001b[0m\u001b[0;34m\u001b[0m\u001b[0m\n\u001b[1;32m    840\u001b[0m             \u001b[0mparams\u001b[0m\u001b[0;34m[\u001b[0m\u001b[0;34m'path'\u001b[0m\u001b[0;34m]\u001b[0m\u001b[0;34m,\u001b[0m\u001b[0;34m\u001b[0m\u001b[0;34m\u001b[0m\u001b[0m\n",
            "\u001b[0;32m/usr/local/lib/python3.10/dist-packages/pinecone/core/client/api_client.py\u001b[0m in \u001b[0;36mcall_api\u001b[0;34m(self, resource_path, method, path_params, query_params, header_params, body, post_params, files, response_type, auth_settings, async_req, _return_http_data_only, collection_formats, _preload_content, _request_timeout, _host, _check_type)\u001b[0m\n\u001b[1;32m    411\u001b[0m         \"\"\"\n\u001b[1;32m    412\u001b[0m         \u001b[0;32mif\u001b[0m \u001b[0;32mnot\u001b[0m \u001b[0masync_req\u001b[0m\u001b[0;34m:\u001b[0m\u001b[0;34m\u001b[0m\u001b[0;34m\u001b[0m\u001b[0m\n\u001b[0;32m--> 413\u001b[0;31m             return self.__call_api(resource_path, method,\n\u001b[0m\u001b[1;32m    414\u001b[0m                                    \u001b[0mpath_params\u001b[0m\u001b[0;34m,\u001b[0m \u001b[0mquery_params\u001b[0m\u001b[0;34m,\u001b[0m \u001b[0mheader_params\u001b[0m\u001b[0;34m,\u001b[0m\u001b[0;34m\u001b[0m\u001b[0;34m\u001b[0m\u001b[0m\n\u001b[1;32m    415\u001b[0m                                    \u001b[0mbody\u001b[0m\u001b[0;34m,\u001b[0m \u001b[0mpost_params\u001b[0m\u001b[0;34m,\u001b[0m \u001b[0mfiles\u001b[0m\u001b[0;34m,\u001b[0m\u001b[0;34m\u001b[0m\u001b[0;34m\u001b[0m\u001b[0m\n",
            "\u001b[0;32m/usr/local/lib/python3.10/dist-packages/pinecone/core/client/api_client.py\u001b[0m in \u001b[0;36m__call_api\u001b[0;34m(self, resource_path, method, path_params, query_params, header_params, body, post_params, files, response_type, auth_settings, _return_http_data_only, collection_formats, _preload_content, _request_timeout, _host, _check_type)\u001b[0m\n\u001b[1;32m    205\u001b[0m         \u001b[0;32mexcept\u001b[0m \u001b[0mApiException\u001b[0m \u001b[0;32mas\u001b[0m \u001b[0me\u001b[0m\u001b[0;34m:\u001b[0m\u001b[0;34m\u001b[0m\u001b[0;34m\u001b[0m\u001b[0m\n\u001b[1;32m    206\u001b[0m             \u001b[0me\u001b[0m\u001b[0;34m.\u001b[0m\u001b[0mbody\u001b[0m \u001b[0;34m=\u001b[0m \u001b[0me\u001b[0m\u001b[0;34m.\u001b[0m\u001b[0mbody\u001b[0m\u001b[0;34m.\u001b[0m\u001b[0mdecode\u001b[0m\u001b[0;34m(\u001b[0m\u001b[0;34m'utf-8'\u001b[0m\u001b[0;34m)\u001b[0m\u001b[0;34m\u001b[0m\u001b[0;34m\u001b[0m\u001b[0m\n\u001b[0;32m--> 207\u001b[0;31m             \u001b[0;32mraise\u001b[0m \u001b[0me\u001b[0m\u001b[0;34m\u001b[0m\u001b[0;34m\u001b[0m\u001b[0m\n\u001b[0m\u001b[1;32m    208\u001b[0m \u001b[0;34m\u001b[0m\u001b[0m\n\u001b[1;32m    209\u001b[0m         \u001b[0mself\u001b[0m\u001b[0;34m.\u001b[0m\u001b[0mlast_response\u001b[0m \u001b[0;34m=\u001b[0m \u001b[0mresponse_data\u001b[0m\u001b[0;34m\u001b[0m\u001b[0;34m\u001b[0m\u001b[0m\n",
            "\u001b[0;32m/usr/local/lib/python3.10/dist-packages/pinecone/core/client/api_client.py\u001b[0m in \u001b[0;36m__call_api\u001b[0;34m(self, resource_path, method, path_params, query_params, header_params, body, post_params, files, response_type, auth_settings, _return_http_data_only, collection_formats, _preload_content, _request_timeout, _host, _check_type)\u001b[0m\n\u001b[1;32m    198\u001b[0m         \u001b[0;32mtry\u001b[0m\u001b[0;34m:\u001b[0m\u001b[0;34m\u001b[0m\u001b[0;34m\u001b[0m\u001b[0m\n\u001b[1;32m    199\u001b[0m             \u001b[0;31m# perform request and return response\u001b[0m\u001b[0;34m\u001b[0m\u001b[0;34m\u001b[0m\u001b[0m\n\u001b[0;32m--> 200\u001b[0;31m             response_data = self.request(\n\u001b[0m\u001b[1;32m    201\u001b[0m                 \u001b[0mmethod\u001b[0m\u001b[0;34m,\u001b[0m \u001b[0murl\u001b[0m\u001b[0;34m,\u001b[0m \u001b[0mquery_params\u001b[0m\u001b[0;34m=\u001b[0m\u001b[0mquery_params\u001b[0m\u001b[0;34m,\u001b[0m \u001b[0mheaders\u001b[0m\u001b[0;34m=\u001b[0m\u001b[0mheader_params\u001b[0m\u001b[0;34m,\u001b[0m\u001b[0;34m\u001b[0m\u001b[0;34m\u001b[0m\u001b[0m\n\u001b[1;32m    202\u001b[0m                 \u001b[0mpost_params\u001b[0m\u001b[0;34m=\u001b[0m\u001b[0mpost_params\u001b[0m\u001b[0;34m,\u001b[0m \u001b[0mbody\u001b[0m\u001b[0;34m=\u001b[0m\u001b[0mbody\u001b[0m\u001b[0;34m,\u001b[0m\u001b[0;34m\u001b[0m\u001b[0;34m\u001b[0m\u001b[0m\n",
            "\u001b[0;32m/usr/local/lib/python3.10/dist-packages/pinecone/core/client/api_client.py\u001b[0m in \u001b[0;36mrequest\u001b[0;34m(self, method, url, query_params, headers, post_params, body, _preload_content, _request_timeout)\u001b[0m\n\u001b[1;32m    457\u001b[0m                                             body=body)\n\u001b[1;32m    458\u001b[0m         \u001b[0;32melif\u001b[0m \u001b[0mmethod\u001b[0m \u001b[0;34m==\u001b[0m \u001b[0;34m\"POST\"\u001b[0m\u001b[0;34m:\u001b[0m\u001b[0;34m\u001b[0m\u001b[0;34m\u001b[0m\u001b[0m\n\u001b[0;32m--> 459\u001b[0;31m             return self.rest_client.POST(url,\n\u001b[0m\u001b[1;32m    460\u001b[0m                                          \u001b[0mquery_params\u001b[0m\u001b[0;34m=\u001b[0m\u001b[0mquery_params\u001b[0m\u001b[0;34m,\u001b[0m\u001b[0;34m\u001b[0m\u001b[0;34m\u001b[0m\u001b[0m\n\u001b[1;32m    461\u001b[0m                                          \u001b[0mheaders\u001b[0m\u001b[0;34m=\u001b[0m\u001b[0mheaders\u001b[0m\u001b[0;34m,\u001b[0m\u001b[0;34m\u001b[0m\u001b[0;34m\u001b[0m\u001b[0m\n",
            "\u001b[0;32m/usr/local/lib/python3.10/dist-packages/pinecone/core/client/rest.py\u001b[0m in \u001b[0;36mPOST\u001b[0;34m(self, url, headers, query_params, post_params, body, _preload_content, _request_timeout)\u001b[0m\n\u001b[1;32m    269\u001b[0m     def POST(self, url, headers=None, query_params=None, post_params=None,\n\u001b[1;32m    270\u001b[0m              body=None, _preload_content=True, _request_timeout=None):\n\u001b[0;32m--> 271\u001b[0;31m         return self.request(\"POST\", url,\n\u001b[0m\u001b[1;32m    272\u001b[0m                             \u001b[0mheaders\u001b[0m\u001b[0;34m=\u001b[0m\u001b[0mheaders\u001b[0m\u001b[0;34m,\u001b[0m\u001b[0;34m\u001b[0m\u001b[0;34m\u001b[0m\u001b[0m\n\u001b[1;32m    273\u001b[0m                             \u001b[0mquery_params\u001b[0m\u001b[0;34m=\u001b[0m\u001b[0mquery_params\u001b[0m\u001b[0;34m,\u001b[0m\u001b[0;34m\u001b[0m\u001b[0;34m\u001b[0m\u001b[0m\n",
            "\u001b[0;32m/usr/local/lib/python3.10/dist-packages/pinecone/core/client/rest.py\u001b[0m in \u001b[0;36mrequest\u001b[0;34m(self, method, url, query_params, headers, body, post_params, _preload_content, _request_timeout)\u001b[0m\n\u001b[1;32m    228\u001b[0m                 \u001b[0;32mraise\u001b[0m \u001b[0mServiceException\u001b[0m\u001b[0;34m(\u001b[0m\u001b[0mhttp_resp\u001b[0m\u001b[0;34m=\u001b[0m\u001b[0mr\u001b[0m\u001b[0;34m)\u001b[0m\u001b[0;34m\u001b[0m\u001b[0;34m\u001b[0m\u001b[0m\n\u001b[1;32m    229\u001b[0m \u001b[0;34m\u001b[0m\u001b[0m\n\u001b[0;32m--> 230\u001b[0;31m             \u001b[0;32mraise\u001b[0m \u001b[0mApiException\u001b[0m\u001b[0;34m(\u001b[0m\u001b[0mhttp_resp\u001b[0m\u001b[0;34m=\u001b[0m\u001b[0mr\u001b[0m\u001b[0;34m)\u001b[0m\u001b[0;34m\u001b[0m\u001b[0;34m\u001b[0m\u001b[0m\n\u001b[0m\u001b[1;32m    231\u001b[0m \u001b[0;34m\u001b[0m\u001b[0m\n\u001b[1;32m    232\u001b[0m         \u001b[0;32mreturn\u001b[0m \u001b[0mr\u001b[0m\u001b[0;34m\u001b[0m\u001b[0;34m\u001b[0m\u001b[0m\n",
            "\u001b[0;31mApiException\u001b[0m: (400)\nReason: Bad Request\nHTTP response headers: HTTPHeaderDict({'content-type': 'text/plain; charset=utf-8', 'access-control-allow-origin': '*', 'vary': 'origin,access-control-request-method,access-control-request-headers', 'access-control-expose-headers': '*', 'x-pinecone-api-version': '2024-04', 'X-Cloud-Trace-Context': '4d6fb7c3116acbb5de3ed1f0b2e5ed68', 'Date': 'Thu, 21 Nov 2024 15:51:22 GMT', 'Server': 'Google Frontend', 'Content-Length': '136', 'Via': '1.1 google', 'Alt-Svc': 'h3=\":443\"; ma=2592000,h3-29=\":443\"; ma=2592000'})\nHTTP response body: Request failed. You've reach the max pod-based indexes allowed in project Default (0). To add more pod-based indexes, upgrade your plan.\n"
          ]
        }
      ]
    },
    {
      "cell_type": "code",
      "source": [],
      "metadata": {
        "id": "3QmnaWKtZ553"
      },
      "execution_count": null,
      "outputs": []
    },
    {
      "source": [
        "import pinecone\n",
        "\n",
        "# Initialize Pinecone connection (you already did this)\n",
        "pinecone.init(api_key=pinecone_key)\n",
        "\n",
        "# Create the index if it doesn't exist using METADATA_CONFIG for serverless\n",
        "if index_name not in pinecone.list_indexes():\n",
        "    pinecone.create_index(\n",
        "        name=index_name,\n",
        "        dimension=len(results),  # Assume results is from your hf.embed_query\n",
        "        metric=\"cosine\",\n",
        "        pod_type=\"s1\"\n",
        "    )\n",
        "\n",
        "# Now you can create the docsearch object:\n",
        "docsearch = Pinecone.from_texts([t.page_content for t in text_chunks], hf, index_name=index_name)"
      ],
      "cell_type": "code",
      "metadata": {
        "colab": {
          "base_uri": "https://localhost:8080/",
          "height": 529
        },
        "id": "7eSncLdRa9Xm",
        "outputId": "27a5298e-bdb7-499c-9c9f-d6251c640b86"
      },
      "execution_count": 44,
      "outputs": [
        {
          "output_type": "error",
          "ename": "ApiException",
          "evalue": "(400)\nReason: Bad Request\nHTTP response headers: HTTPHeaderDict({'content-type': 'text/plain; charset=utf-8', 'access-control-allow-origin': '*', 'vary': 'origin,access-control-request-method,access-control-request-headers', 'access-control-expose-headers': '*', 'x-pinecone-api-version': '2024-04', 'X-Cloud-Trace-Context': 'f2314616a55dc148ac32b3d3927c2eb1', 'Date': 'Thu, 21 Nov 2024 15:51:30 GMT', 'Server': 'Google Frontend', 'Content-Length': '136', 'Via': '1.1 google', 'Alt-Svc': 'h3=\":443\"; ma=2592000,h3-29=\":443\"; ma=2592000'})\nHTTP response body: Request failed. You've reach the max pod-based indexes allowed in project Default (0). To add more pod-based indexes, upgrade your plan.\n",
          "traceback": [
            "\u001b[0;31m---------------------------------------------------------------------------\u001b[0m",
            "\u001b[0;31mApiException\u001b[0m                              Traceback (most recent call last)",
            "\u001b[0;32m<ipython-input-44-4adf2527ccad>\u001b[0m in \u001b[0;36m<cell line: 7>\u001b[0;34m()\u001b[0m\n\u001b[1;32m      6\u001b[0m \u001b[0;31m# Create the index if it doesn't exist using METADATA_CONFIG for serverless\u001b[0m\u001b[0;34m\u001b[0m\u001b[0;34m\u001b[0m\u001b[0m\n\u001b[1;32m      7\u001b[0m \u001b[0;32mif\u001b[0m \u001b[0mindex_name\u001b[0m \u001b[0;32mnot\u001b[0m \u001b[0;32min\u001b[0m \u001b[0mpinecone\u001b[0m\u001b[0;34m.\u001b[0m\u001b[0mlist_indexes\u001b[0m\u001b[0;34m(\u001b[0m\u001b[0;34m)\u001b[0m\u001b[0;34m:\u001b[0m\u001b[0;34m\u001b[0m\u001b[0;34m\u001b[0m\u001b[0m\n\u001b[0;32m----> 8\u001b[0;31m     pinecone.create_index(\n\u001b[0m\u001b[1;32m      9\u001b[0m         \u001b[0mname\u001b[0m\u001b[0;34m=\u001b[0m\u001b[0mindex_name\u001b[0m\u001b[0;34m,\u001b[0m\u001b[0;34m\u001b[0m\u001b[0;34m\u001b[0m\u001b[0m\n\u001b[1;32m     10\u001b[0m         \u001b[0mdimension\u001b[0m\u001b[0;34m=\u001b[0m\u001b[0mlen\u001b[0m\u001b[0;34m(\u001b[0m\u001b[0mresults\u001b[0m\u001b[0;34m)\u001b[0m\u001b[0;34m,\u001b[0m  \u001b[0;31m# Assume results is from your hf.embed_query\u001b[0m\u001b[0;34m\u001b[0m\u001b[0;34m\u001b[0m\u001b[0m\n",
            "\u001b[0;32m/usr/local/lib/python3.10/dist-packages/pinecone/manage.py\u001b[0m in \u001b[0;36mcreate_index\u001b[0;34m(name, dimension, timeout, index_type, metric, replicas, shards, pods, pod_type, index_config, metadata_config, source_collection)\u001b[0m\n\u001b[1;32m    116\u001b[0m     \u001b[0mapi_instance\u001b[0m \u001b[0;34m=\u001b[0m \u001b[0m_get_api_instance\u001b[0m\u001b[0;34m(\u001b[0m\u001b[0;34m)\u001b[0m\u001b[0;34m\u001b[0m\u001b[0;34m\u001b[0m\u001b[0m\n\u001b[1;32m    117\u001b[0m \u001b[0;34m\u001b[0m\u001b[0m\n\u001b[0;32m--> 118\u001b[0;31m     api_instance.create_index(create_request=CreateRequest(\n\u001b[0m\u001b[1;32m    119\u001b[0m         \u001b[0mname\u001b[0m\u001b[0;34m=\u001b[0m\u001b[0mname\u001b[0m\u001b[0;34m,\u001b[0m\u001b[0;34m\u001b[0m\u001b[0;34m\u001b[0m\u001b[0m\n\u001b[1;32m    120\u001b[0m         \u001b[0mdimension\u001b[0m\u001b[0;34m=\u001b[0m\u001b[0mdimension\u001b[0m\u001b[0;34m,\u001b[0m\u001b[0;34m\u001b[0m\u001b[0;34m\u001b[0m\u001b[0m\n",
            "\u001b[0;32m/usr/local/lib/python3.10/dist-packages/pinecone/core/client/api_client.py\u001b[0m in \u001b[0;36m__call__\u001b[0;34m(self, *args, **kwargs)\u001b[0m\n\u001b[1;32m    774\u001b[0m \u001b[0;34m\u001b[0m\u001b[0m\n\u001b[1;32m    775\u001b[0m         \"\"\"\n\u001b[0;32m--> 776\u001b[0;31m         \u001b[0;32mreturn\u001b[0m \u001b[0mself\u001b[0m\u001b[0;34m.\u001b[0m\u001b[0mcallable\u001b[0m\u001b[0;34m(\u001b[0m\u001b[0mself\u001b[0m\u001b[0;34m,\u001b[0m \u001b[0;34m*\u001b[0m\u001b[0margs\u001b[0m\u001b[0;34m,\u001b[0m \u001b[0;34m**\u001b[0m\u001b[0mkwargs\u001b[0m\u001b[0;34m)\u001b[0m\u001b[0;34m\u001b[0m\u001b[0;34m\u001b[0m\u001b[0m\n\u001b[0m\u001b[1;32m    777\u001b[0m \u001b[0;34m\u001b[0m\u001b[0m\n\u001b[1;32m    778\u001b[0m     \u001b[0;32mdef\u001b[0m \u001b[0mcall_with_http_info\u001b[0m\u001b[0;34m(\u001b[0m\u001b[0mself\u001b[0m\u001b[0;34m,\u001b[0m \u001b[0;34m**\u001b[0m\u001b[0mkwargs\u001b[0m\u001b[0;34m)\u001b[0m\u001b[0;34m:\u001b[0m\u001b[0;34m\u001b[0m\u001b[0;34m\u001b[0m\u001b[0m\n",
            "\u001b[0;32m/usr/local/lib/python3.10/dist-packages/pinecone/core/client/api/index_operations_api.py\u001b[0m in \u001b[0;36m__create_index\u001b[0;34m(self, **kwargs)\u001b[0m\n\u001b[1;32m    366\u001b[0m             )\n\u001b[1;32m    367\u001b[0m             \u001b[0mkwargs\u001b[0m\u001b[0;34m[\u001b[0m\u001b[0;34m'_host_index'\u001b[0m\u001b[0;34m]\u001b[0m \u001b[0;34m=\u001b[0m \u001b[0mkwargs\u001b[0m\u001b[0;34m.\u001b[0m\u001b[0mget\u001b[0m\u001b[0;34m(\u001b[0m\u001b[0;34m'_host_index'\u001b[0m\u001b[0;34m)\u001b[0m\u001b[0;34m\u001b[0m\u001b[0;34m\u001b[0m\u001b[0m\n\u001b[0;32m--> 368\u001b[0;31m             \u001b[0;32mreturn\u001b[0m \u001b[0mself\u001b[0m\u001b[0;34m.\u001b[0m\u001b[0mcall_with_http_info\u001b[0m\u001b[0;34m(\u001b[0m\u001b[0;34m**\u001b[0m\u001b[0mkwargs\u001b[0m\u001b[0;34m)\u001b[0m\u001b[0;34m\u001b[0m\u001b[0;34m\u001b[0m\u001b[0m\n\u001b[0m\u001b[1;32m    369\u001b[0m \u001b[0;34m\u001b[0m\u001b[0m\n\u001b[1;32m    370\u001b[0m         self.create_index = _Endpoint(\n",
            "\u001b[0;32m/usr/local/lib/python3.10/dist-packages/pinecone/core/client/api_client.py\u001b[0m in \u001b[0;36mcall_with_http_info\u001b[0;34m(self, **kwargs)\u001b[0m\n\u001b[1;32m    836\u001b[0m             \u001b[0mparams\u001b[0m\u001b[0;34m[\u001b[0m\u001b[0;34m'header'\u001b[0m\u001b[0;34m]\u001b[0m\u001b[0;34m[\u001b[0m\u001b[0;34m'Content-Type'\u001b[0m\u001b[0;34m]\u001b[0m \u001b[0;34m=\u001b[0m \u001b[0mheader_list\u001b[0m\u001b[0;34m\u001b[0m\u001b[0;34m\u001b[0m\u001b[0m\n\u001b[1;32m    837\u001b[0m \u001b[0;34m\u001b[0m\u001b[0m\n\u001b[0;32m--> 838\u001b[0;31m         return self.api_client.call_api(\n\u001b[0m\u001b[1;32m    839\u001b[0m             \u001b[0mself\u001b[0m\u001b[0;34m.\u001b[0m\u001b[0msettings\u001b[0m\u001b[0;34m[\u001b[0m\u001b[0;34m'endpoint_path'\u001b[0m\u001b[0;34m]\u001b[0m\u001b[0;34m,\u001b[0m \u001b[0mself\u001b[0m\u001b[0;34m.\u001b[0m\u001b[0msettings\u001b[0m\u001b[0;34m[\u001b[0m\u001b[0;34m'http_method'\u001b[0m\u001b[0;34m]\u001b[0m\u001b[0;34m,\u001b[0m\u001b[0;34m\u001b[0m\u001b[0;34m\u001b[0m\u001b[0m\n\u001b[1;32m    840\u001b[0m             \u001b[0mparams\u001b[0m\u001b[0;34m[\u001b[0m\u001b[0;34m'path'\u001b[0m\u001b[0;34m]\u001b[0m\u001b[0;34m,\u001b[0m\u001b[0;34m\u001b[0m\u001b[0;34m\u001b[0m\u001b[0m\n",
            "\u001b[0;32m/usr/local/lib/python3.10/dist-packages/pinecone/core/client/api_client.py\u001b[0m in \u001b[0;36mcall_api\u001b[0;34m(self, resource_path, method, path_params, query_params, header_params, body, post_params, files, response_type, auth_settings, async_req, _return_http_data_only, collection_formats, _preload_content, _request_timeout, _host, _check_type)\u001b[0m\n\u001b[1;32m    411\u001b[0m         \"\"\"\n\u001b[1;32m    412\u001b[0m         \u001b[0;32mif\u001b[0m \u001b[0;32mnot\u001b[0m \u001b[0masync_req\u001b[0m\u001b[0;34m:\u001b[0m\u001b[0;34m\u001b[0m\u001b[0;34m\u001b[0m\u001b[0m\n\u001b[0;32m--> 413\u001b[0;31m             return self.__call_api(resource_path, method,\n\u001b[0m\u001b[1;32m    414\u001b[0m                                    \u001b[0mpath_params\u001b[0m\u001b[0;34m,\u001b[0m \u001b[0mquery_params\u001b[0m\u001b[0;34m,\u001b[0m \u001b[0mheader_params\u001b[0m\u001b[0;34m,\u001b[0m\u001b[0;34m\u001b[0m\u001b[0;34m\u001b[0m\u001b[0m\n\u001b[1;32m    415\u001b[0m                                    \u001b[0mbody\u001b[0m\u001b[0;34m,\u001b[0m \u001b[0mpost_params\u001b[0m\u001b[0;34m,\u001b[0m \u001b[0mfiles\u001b[0m\u001b[0;34m,\u001b[0m\u001b[0;34m\u001b[0m\u001b[0;34m\u001b[0m\u001b[0m\n",
            "\u001b[0;32m/usr/local/lib/python3.10/dist-packages/pinecone/core/client/api_client.py\u001b[0m in \u001b[0;36m__call_api\u001b[0;34m(self, resource_path, method, path_params, query_params, header_params, body, post_params, files, response_type, auth_settings, _return_http_data_only, collection_formats, _preload_content, _request_timeout, _host, _check_type)\u001b[0m\n\u001b[1;32m    205\u001b[0m         \u001b[0;32mexcept\u001b[0m \u001b[0mApiException\u001b[0m \u001b[0;32mas\u001b[0m \u001b[0me\u001b[0m\u001b[0;34m:\u001b[0m\u001b[0;34m\u001b[0m\u001b[0;34m\u001b[0m\u001b[0m\n\u001b[1;32m    206\u001b[0m             \u001b[0me\u001b[0m\u001b[0;34m.\u001b[0m\u001b[0mbody\u001b[0m \u001b[0;34m=\u001b[0m \u001b[0me\u001b[0m\u001b[0;34m.\u001b[0m\u001b[0mbody\u001b[0m\u001b[0;34m.\u001b[0m\u001b[0mdecode\u001b[0m\u001b[0;34m(\u001b[0m\u001b[0;34m'utf-8'\u001b[0m\u001b[0;34m)\u001b[0m\u001b[0;34m\u001b[0m\u001b[0;34m\u001b[0m\u001b[0m\n\u001b[0;32m--> 207\u001b[0;31m             \u001b[0;32mraise\u001b[0m \u001b[0me\u001b[0m\u001b[0;34m\u001b[0m\u001b[0;34m\u001b[0m\u001b[0m\n\u001b[0m\u001b[1;32m    208\u001b[0m \u001b[0;34m\u001b[0m\u001b[0m\n\u001b[1;32m    209\u001b[0m         \u001b[0mself\u001b[0m\u001b[0;34m.\u001b[0m\u001b[0mlast_response\u001b[0m \u001b[0;34m=\u001b[0m \u001b[0mresponse_data\u001b[0m\u001b[0;34m\u001b[0m\u001b[0;34m\u001b[0m\u001b[0m\n",
            "\u001b[0;32m/usr/local/lib/python3.10/dist-packages/pinecone/core/client/api_client.py\u001b[0m in \u001b[0;36m__call_api\u001b[0;34m(self, resource_path, method, path_params, query_params, header_params, body, post_params, files, response_type, auth_settings, _return_http_data_only, collection_formats, _preload_content, _request_timeout, _host, _check_type)\u001b[0m\n\u001b[1;32m    198\u001b[0m         \u001b[0;32mtry\u001b[0m\u001b[0;34m:\u001b[0m\u001b[0;34m\u001b[0m\u001b[0;34m\u001b[0m\u001b[0m\n\u001b[1;32m    199\u001b[0m             \u001b[0;31m# perform request and return response\u001b[0m\u001b[0;34m\u001b[0m\u001b[0;34m\u001b[0m\u001b[0m\n\u001b[0;32m--> 200\u001b[0;31m             response_data = self.request(\n\u001b[0m\u001b[1;32m    201\u001b[0m                 \u001b[0mmethod\u001b[0m\u001b[0;34m,\u001b[0m \u001b[0murl\u001b[0m\u001b[0;34m,\u001b[0m \u001b[0mquery_params\u001b[0m\u001b[0;34m=\u001b[0m\u001b[0mquery_params\u001b[0m\u001b[0;34m,\u001b[0m \u001b[0mheaders\u001b[0m\u001b[0;34m=\u001b[0m\u001b[0mheader_params\u001b[0m\u001b[0;34m,\u001b[0m\u001b[0;34m\u001b[0m\u001b[0;34m\u001b[0m\u001b[0m\n\u001b[1;32m    202\u001b[0m                 \u001b[0mpost_params\u001b[0m\u001b[0;34m=\u001b[0m\u001b[0mpost_params\u001b[0m\u001b[0;34m,\u001b[0m \u001b[0mbody\u001b[0m\u001b[0;34m=\u001b[0m\u001b[0mbody\u001b[0m\u001b[0;34m,\u001b[0m\u001b[0;34m\u001b[0m\u001b[0;34m\u001b[0m\u001b[0m\n",
            "\u001b[0;32m/usr/local/lib/python3.10/dist-packages/pinecone/core/client/api_client.py\u001b[0m in \u001b[0;36mrequest\u001b[0;34m(self, method, url, query_params, headers, post_params, body, _preload_content, _request_timeout)\u001b[0m\n\u001b[1;32m    457\u001b[0m                                             body=body)\n\u001b[1;32m    458\u001b[0m         \u001b[0;32melif\u001b[0m \u001b[0mmethod\u001b[0m \u001b[0;34m==\u001b[0m \u001b[0;34m\"POST\"\u001b[0m\u001b[0;34m:\u001b[0m\u001b[0;34m\u001b[0m\u001b[0;34m\u001b[0m\u001b[0m\n\u001b[0;32m--> 459\u001b[0;31m             return self.rest_client.POST(url,\n\u001b[0m\u001b[1;32m    460\u001b[0m                                          \u001b[0mquery_params\u001b[0m\u001b[0;34m=\u001b[0m\u001b[0mquery_params\u001b[0m\u001b[0;34m,\u001b[0m\u001b[0;34m\u001b[0m\u001b[0;34m\u001b[0m\u001b[0m\n\u001b[1;32m    461\u001b[0m                                          \u001b[0mheaders\u001b[0m\u001b[0;34m=\u001b[0m\u001b[0mheaders\u001b[0m\u001b[0;34m,\u001b[0m\u001b[0;34m\u001b[0m\u001b[0;34m\u001b[0m\u001b[0m\n",
            "\u001b[0;32m/usr/local/lib/python3.10/dist-packages/pinecone/core/client/rest.py\u001b[0m in \u001b[0;36mPOST\u001b[0;34m(self, url, headers, query_params, post_params, body, _preload_content, _request_timeout)\u001b[0m\n\u001b[1;32m    269\u001b[0m     def POST(self, url, headers=None, query_params=None, post_params=None,\n\u001b[1;32m    270\u001b[0m              body=None, _preload_content=True, _request_timeout=None):\n\u001b[0;32m--> 271\u001b[0;31m         return self.request(\"POST\", url,\n\u001b[0m\u001b[1;32m    272\u001b[0m                             \u001b[0mheaders\u001b[0m\u001b[0;34m=\u001b[0m\u001b[0mheaders\u001b[0m\u001b[0;34m,\u001b[0m\u001b[0;34m\u001b[0m\u001b[0;34m\u001b[0m\u001b[0m\n\u001b[1;32m    273\u001b[0m                             \u001b[0mquery_params\u001b[0m\u001b[0;34m=\u001b[0m\u001b[0mquery_params\u001b[0m\u001b[0;34m,\u001b[0m\u001b[0;34m\u001b[0m\u001b[0;34m\u001b[0m\u001b[0m\n",
            "\u001b[0;32m/usr/local/lib/python3.10/dist-packages/pinecone/core/client/rest.py\u001b[0m in \u001b[0;36mrequest\u001b[0;34m(self, method, url, query_params, headers, body, post_params, _preload_content, _request_timeout)\u001b[0m\n\u001b[1;32m    228\u001b[0m                 \u001b[0;32mraise\u001b[0m \u001b[0mServiceException\u001b[0m\u001b[0;34m(\u001b[0m\u001b[0mhttp_resp\u001b[0m\u001b[0;34m=\u001b[0m\u001b[0mr\u001b[0m\u001b[0;34m)\u001b[0m\u001b[0;34m\u001b[0m\u001b[0;34m\u001b[0m\u001b[0m\n\u001b[1;32m    229\u001b[0m \u001b[0;34m\u001b[0m\u001b[0m\n\u001b[0;32m--> 230\u001b[0;31m             \u001b[0;32mraise\u001b[0m \u001b[0mApiException\u001b[0m\u001b[0;34m(\u001b[0m\u001b[0mhttp_resp\u001b[0m\u001b[0;34m=\u001b[0m\u001b[0mr\u001b[0m\u001b[0;34m)\u001b[0m\u001b[0;34m\u001b[0m\u001b[0;34m\u001b[0m\u001b[0m\n\u001b[0m\u001b[1;32m    231\u001b[0m \u001b[0;34m\u001b[0m\u001b[0m\n\u001b[1;32m    232\u001b[0m         \u001b[0;32mreturn\u001b[0m \u001b[0mr\u001b[0m\u001b[0;34m\u001b[0m\u001b[0;34m\u001b[0m\u001b[0m\n",
            "\u001b[0;31mApiException\u001b[0m: (400)\nReason: Bad Request\nHTTP response headers: HTTPHeaderDict({'content-type': 'text/plain; charset=utf-8', 'access-control-allow-origin': '*', 'vary': 'origin,access-control-request-method,access-control-request-headers', 'access-control-expose-headers': '*', 'x-pinecone-api-version': '2024-04', 'X-Cloud-Trace-Context': 'f2314616a55dc148ac32b3d3927c2eb1', 'Date': 'Thu, 21 Nov 2024 15:51:30 GMT', 'Server': 'Google Frontend', 'Content-Length': '136', 'Via': '1.1 google', 'Alt-Svc': 'h3=\":443\"; ma=2592000,h3-29=\":443\"; ma=2592000'})\nHTTP response body: Request failed. You've reach the max pod-based indexes allowed in project Default (0). To add more pod-based indexes, upgrade your plan.\n"
          ]
        }
      ]
    },
    {
      "cell_type": "code",
      "source": [
        "pinecone.list_indexes()"
      ],
      "metadata": {
        "colab": {
          "base_uri": "https://localhost:8080/"
        },
        "id": "Zx43tukda96u",
        "outputId": "2c377549-294a-4272-f878-6459ec300e73"
      },
      "execution_count": 47,
      "outputs": [
        {
          "output_type": "execute_result",
          "data": {
            "text/plain": [
              "[]"
            ]
          },
          "metadata": {},
          "execution_count": 47
        }
      ]
    },
    {
      "source": [
        "import pinecone\n",
        "pinecone.init(api_key=pinecone_key, environment=\"us-east1-gcp\")\n",
        "client = pinecone.Client()\n",
        "index_list = client.list_indexes().names()\n",
        "print(index_list)"
      ],
      "cell_type": "code",
      "metadata": {
        "colab": {
          "base_uri": "https://localhost:8080/",
          "height": 211
        },
        "id": "Oou8ZjiIbuma",
        "outputId": "b7ddd1f5-af65-4341-fdc6-4e0c07e6bb68"
      },
      "execution_count": 52,
      "outputs": [
        {
          "output_type": "error",
          "ename": "AttributeError",
          "evalue": "module 'pinecone' has no attribute 'Client'",
          "traceback": [
            "\u001b[0;31m---------------------------------------------------------------------------\u001b[0m",
            "\u001b[0;31mAttributeError\u001b[0m                            Traceback (most recent call last)",
            "\u001b[0;32m<ipython-input-52-a23100fb3954>\u001b[0m in \u001b[0;36m<cell line: 3>\u001b[0;34m()\u001b[0m\n\u001b[1;32m      1\u001b[0m \u001b[0;32mimport\u001b[0m \u001b[0mpinecone\u001b[0m\u001b[0;34m\u001b[0m\u001b[0;34m\u001b[0m\u001b[0m\n\u001b[1;32m      2\u001b[0m \u001b[0mpinecone\u001b[0m\u001b[0;34m.\u001b[0m\u001b[0minit\u001b[0m\u001b[0;34m(\u001b[0m\u001b[0mapi_key\u001b[0m\u001b[0;34m=\u001b[0m\u001b[0mpinecone_key\u001b[0m\u001b[0;34m,\u001b[0m \u001b[0menvironment\u001b[0m\u001b[0;34m=\u001b[0m\u001b[0;34m\"us-east1-gcp\"\u001b[0m\u001b[0;34m)\u001b[0m\u001b[0;34m\u001b[0m\u001b[0;34m\u001b[0m\u001b[0m\n\u001b[0;32m----> 3\u001b[0;31m \u001b[0mclient\u001b[0m \u001b[0;34m=\u001b[0m \u001b[0mpinecone\u001b[0m\u001b[0;34m.\u001b[0m\u001b[0mClient\u001b[0m\u001b[0;34m(\u001b[0m\u001b[0;34m)\u001b[0m\u001b[0;34m\u001b[0m\u001b[0;34m\u001b[0m\u001b[0m\n\u001b[0m\u001b[1;32m      4\u001b[0m \u001b[0mindex_list\u001b[0m \u001b[0;34m=\u001b[0m \u001b[0mclient\u001b[0m\u001b[0;34m.\u001b[0m\u001b[0mlist_indexes\u001b[0m\u001b[0;34m(\u001b[0m\u001b[0;34m)\u001b[0m\u001b[0;34m.\u001b[0m\u001b[0mnames\u001b[0m\u001b[0;34m(\u001b[0m\u001b[0;34m)\u001b[0m\u001b[0;34m\u001b[0m\u001b[0;34m\u001b[0m\u001b[0m\n\u001b[1;32m      5\u001b[0m \u001b[0mprint\u001b[0m\u001b[0;34m(\u001b[0m\u001b[0mindex_list\u001b[0m\u001b[0;34m)\u001b[0m\u001b[0;34m\u001b[0m\u001b[0;34m\u001b[0m\u001b[0m\n",
            "\u001b[0;31mAttributeError\u001b[0m: module 'pinecone' has no attribute 'Client'"
          ]
        }
      ]
    },
    {
      "source": [
        "!pip install pinecone-client --upgrade"
      ],
      "cell_type": "code",
      "metadata": {
        "colab": {
          "base_uri": "https://localhost:8080/"
        },
        "id": "QU5sszfGb_KK",
        "outputId": "7ae8d563-1f5b-4f93-9473-ecfa407837ea"
      },
      "execution_count": 53,
      "outputs": [
        {
          "output_type": "stream",
          "name": "stdout",
          "text": [
            "Requirement already satisfied: pinecone-client in /usr/local/lib/python3.10/dist-packages (5.0.1)\n",
            "Requirement already satisfied: certifi>=2019.11.17 in /usr/local/lib/python3.10/dist-packages (from pinecone-client) (2024.8.30)\n",
            "Requirement already satisfied: pinecone-plugin-inference<2.0.0,>=1.0.3 in /usr/local/lib/python3.10/dist-packages (from pinecone-client) (1.1.0)\n",
            "Requirement already satisfied: pinecone-plugin-interface<0.0.8,>=0.0.7 in /usr/local/lib/python3.10/dist-packages (from pinecone-client) (0.0.7)\n",
            "Requirement already satisfied: tqdm>=4.64.1 in /usr/local/lib/python3.10/dist-packages (from pinecone-client) (4.66.6)\n",
            "Requirement already satisfied: typing-extensions>=3.7.4 in /usr/local/lib/python3.10/dist-packages (from pinecone-client) (4.12.2)\n",
            "Requirement already satisfied: urllib3>=1.26.0 in /usr/local/lib/python3.10/dist-packages (from pinecone-client) (2.2.3)\n"
          ]
        }
      ]
    },
    {
      "cell_type": "code",
      "source": [],
      "metadata": {
        "id": "x0Sqw8khbG3S"
      },
      "execution_count": null,
      "outputs": []
    }
  ]
}